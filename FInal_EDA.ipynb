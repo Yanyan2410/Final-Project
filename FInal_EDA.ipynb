{
 "cells": [
  {
   "cell_type": "code",
   "execution_count": 1,
   "metadata": {},
   "outputs": [],
   "source": [
    "import pandas as pd\n",
    "import numpy as np\n",
    "import matplotlib.pyplot as plt\n",
    "import seaborn as sns\n",
    "import warnings\n",
    "\n",
    "warnings.filterwarnings('ignore')\n",
    "%matplotlib inline"
   ]
  },
  {
   "cell_type": "markdown",
   "metadata": {},
   "source": [
    "### Introduction"
   ]
  },
  {
   "cell_type": "markdown",
   "metadata": {},
   "source": [
    "Belanja online adalah suatu bentuk pembelian yang besar dan terus berkembang dan mewakili sebagian besar pendapatan B2C (Business to Customer). 69% orang Amerika pernah berbelanja online di beberapa online shop, dengan pendapatan rata-rata $ 1804 per pembelanja online. 36% orang Amerika berbelanja online setidaknya sebulan sekali. Mempelajari bagaimana dan kapan pembeli akan meneliti dan membeli barang secara online penting bagi bisnis karena mereka dapat menggunakan wawasan perilaku pelanggan untuk menargetkan iklan, pemasaran, dan penawaran kepada calon pelanggan untuk lebih meningkatkan penjualan dan pendapatan mereka."
   ]
  },
  {
   "cell_type": "markdown",
   "metadata": {},
   "source": [
    "### Problem"
   ]
  },
  {
   "cell_type": "markdown",
   "metadata": {},
   "source": [
    "Karena COVID-19 terus menyebar ke seluruh dunia dan kebanyakan orang di dunia mempraktikkan 'Stay Home, Save Life', ONLIE SHOPPING tidak hanya menjadi pilihan lagi, tetapi juga solusi kehidupan sehari-hari yang penting.\n",
    "\n",
    "Kami memiliki alasan untuk meyakini bahwa penjualan online akan memainkan peran yang lebih penting dalam bisnis kami. Diyakini juga bahwa sekarang adalah waktu yang tepat untuk meningkatkan kinerja online kita.\n",
    "\n",
    "Peningkatan dalam adopsi dan penetrasi Internet telah mengubah pasar online menjadi saluran distribusi penting tempat konsumen dan bisnis berinteraksi satu sama lain. Tetapi fakta bahwa tingkat konversi tidak meningkat pada tingkat yang sama mengarah pada kebutuhan akan solusi. Kami akan menganalisis berbagai fitur seperti durasi waktu di halaman, Exit rate, nilai halaman, dll dan memprediksi apakah mereka melakukan transaksi atau tidak."
   ]
  },
  {
   "cell_type": "markdown",
   "metadata": {},
   "source": [
    "### Goals"
   ]
  },
  {
   "cell_type": "markdown",
   "metadata": {},
   "source": [
    "- Model dapat memprediksi pelanggan yang akan menghasilkan keuntungan untuk e-commerce\n",
    "- Mengurangi tingkat bounce rate/exit"
   ]
  },
  {
   "cell_type": "markdown",
   "metadata": {},
   "source": [
    "### Data Collection"
   ]
  },
  {
   "cell_type": "code",
   "execution_count": 2,
   "metadata": {},
   "outputs": [],
   "source": [
    "df_online = pd.read_csv('online_shoppers_intention.csv')"
   ]
  },
  {
   "cell_type": "code",
   "execution_count": 3,
   "metadata": {},
   "outputs": [
    {
     "data": {
      "text/html": [
       "<div>\n",
       "<style scoped>\n",
       "    .dataframe tbody tr th:only-of-type {\n",
       "        vertical-align: middle;\n",
       "    }\n",
       "\n",
       "    .dataframe tbody tr th {\n",
       "        vertical-align: top;\n",
       "    }\n",
       "\n",
       "    .dataframe thead th {\n",
       "        text-align: right;\n",
       "    }\n",
       "</style>\n",
       "<table border=\"1\" class=\"dataframe\">\n",
       "  <thead>\n",
       "    <tr style=\"text-align: right;\">\n",
       "      <th></th>\n",
       "      <th>Administrative</th>\n",
       "      <th>Administrative_Duration</th>\n",
       "      <th>Informational</th>\n",
       "      <th>Informational_Duration</th>\n",
       "      <th>ProductRelated</th>\n",
       "      <th>ProductRelated_Duration</th>\n",
       "      <th>BounceRates</th>\n",
       "      <th>ExitRates</th>\n",
       "      <th>PageValues</th>\n",
       "      <th>SpecialDay</th>\n",
       "      <th>Month</th>\n",
       "      <th>OperatingSystems</th>\n",
       "      <th>Browser</th>\n",
       "      <th>Region</th>\n",
       "      <th>TrafficType</th>\n",
       "      <th>VisitorType</th>\n",
       "      <th>Weekend</th>\n",
       "      <th>Revenue</th>\n",
       "    </tr>\n",
       "  </thead>\n",
       "  <tbody>\n",
       "    <tr>\n",
       "      <th>0</th>\n",
       "      <td>0.0</td>\n",
       "      <td>0.0</td>\n",
       "      <td>0.0</td>\n",
       "      <td>0.0</td>\n",
       "      <td>1.0</td>\n",
       "      <td>0.000000</td>\n",
       "      <td>0.20</td>\n",
       "      <td>0.20</td>\n",
       "      <td>0.0</td>\n",
       "      <td>0.0</td>\n",
       "      <td>Feb</td>\n",
       "      <td>1</td>\n",
       "      <td>1</td>\n",
       "      <td>1</td>\n",
       "      <td>1</td>\n",
       "      <td>Returning_Visitor</td>\n",
       "      <td>False</td>\n",
       "      <td>False</td>\n",
       "    </tr>\n",
       "    <tr>\n",
       "      <th>1</th>\n",
       "      <td>0.0</td>\n",
       "      <td>0.0</td>\n",
       "      <td>0.0</td>\n",
       "      <td>0.0</td>\n",
       "      <td>2.0</td>\n",
       "      <td>64.000000</td>\n",
       "      <td>0.00</td>\n",
       "      <td>0.10</td>\n",
       "      <td>0.0</td>\n",
       "      <td>0.0</td>\n",
       "      <td>Feb</td>\n",
       "      <td>2</td>\n",
       "      <td>2</td>\n",
       "      <td>1</td>\n",
       "      <td>2</td>\n",
       "      <td>Returning_Visitor</td>\n",
       "      <td>False</td>\n",
       "      <td>False</td>\n",
       "    </tr>\n",
       "    <tr>\n",
       "      <th>2</th>\n",
       "      <td>0.0</td>\n",
       "      <td>-1.0</td>\n",
       "      <td>0.0</td>\n",
       "      <td>-1.0</td>\n",
       "      <td>1.0</td>\n",
       "      <td>-1.000000</td>\n",
       "      <td>0.20</td>\n",
       "      <td>0.20</td>\n",
       "      <td>0.0</td>\n",
       "      <td>0.0</td>\n",
       "      <td>Feb</td>\n",
       "      <td>4</td>\n",
       "      <td>1</td>\n",
       "      <td>9</td>\n",
       "      <td>3</td>\n",
       "      <td>Returning_Visitor</td>\n",
       "      <td>False</td>\n",
       "      <td>False</td>\n",
       "    </tr>\n",
       "    <tr>\n",
       "      <th>3</th>\n",
       "      <td>0.0</td>\n",
       "      <td>0.0</td>\n",
       "      <td>0.0</td>\n",
       "      <td>0.0</td>\n",
       "      <td>2.0</td>\n",
       "      <td>2.666667</td>\n",
       "      <td>0.05</td>\n",
       "      <td>0.14</td>\n",
       "      <td>0.0</td>\n",
       "      <td>0.0</td>\n",
       "      <td>Feb</td>\n",
       "      <td>3</td>\n",
       "      <td>2</td>\n",
       "      <td>2</td>\n",
       "      <td>4</td>\n",
       "      <td>Returning_Visitor</td>\n",
       "      <td>False</td>\n",
       "      <td>False</td>\n",
       "    </tr>\n",
       "    <tr>\n",
       "      <th>4</th>\n",
       "      <td>0.0</td>\n",
       "      <td>0.0</td>\n",
       "      <td>0.0</td>\n",
       "      <td>0.0</td>\n",
       "      <td>10.0</td>\n",
       "      <td>627.500000</td>\n",
       "      <td>0.02</td>\n",
       "      <td>0.05</td>\n",
       "      <td>0.0</td>\n",
       "      <td>0.0</td>\n",
       "      <td>Feb</td>\n",
       "      <td>3</td>\n",
       "      <td>3</td>\n",
       "      <td>1</td>\n",
       "      <td>4</td>\n",
       "      <td>Returning_Visitor</td>\n",
       "      <td>True</td>\n",
       "      <td>False</td>\n",
       "    </tr>\n",
       "  </tbody>\n",
       "</table>\n",
       "</div>"
      ],
      "text/plain": [
       "   Administrative  Administrative_Duration  Informational  \\\n",
       "0             0.0                      0.0            0.0   \n",
       "1             0.0                      0.0            0.0   \n",
       "2             0.0                     -1.0            0.0   \n",
       "3             0.0                      0.0            0.0   \n",
       "4             0.0                      0.0            0.0   \n",
       "\n",
       "   Informational_Duration  ProductRelated  ProductRelated_Duration  \\\n",
       "0                     0.0             1.0                 0.000000   \n",
       "1                     0.0             2.0                64.000000   \n",
       "2                    -1.0             1.0                -1.000000   \n",
       "3                     0.0             2.0                 2.666667   \n",
       "4                     0.0            10.0               627.500000   \n",
       "\n",
       "   BounceRates  ExitRates  PageValues  SpecialDay Month  OperatingSystems  \\\n",
       "0         0.20       0.20         0.0         0.0   Feb                 1   \n",
       "1         0.00       0.10         0.0         0.0   Feb                 2   \n",
       "2         0.20       0.20         0.0         0.0   Feb                 4   \n",
       "3         0.05       0.14         0.0         0.0   Feb                 3   \n",
       "4         0.02       0.05         0.0         0.0   Feb                 3   \n",
       "\n",
       "   Browser  Region  TrafficType        VisitorType  Weekend  Revenue  \n",
       "0        1       1            1  Returning_Visitor    False    False  \n",
       "1        2       1            2  Returning_Visitor    False    False  \n",
       "2        1       9            3  Returning_Visitor    False    False  \n",
       "3        2       2            4  Returning_Visitor    False    False  \n",
       "4        3       1            4  Returning_Visitor     True    False  "
      ]
     },
     "execution_count": 3,
     "metadata": {},
     "output_type": "execute_result"
    }
   ],
   "source": [
    "df_online.head()"
   ]
  },
  {
   "cell_type": "markdown",
   "metadata": {},
   "source": [
    "### Describe Data and Handling Missing Value"
   ]
  },
  {
   "cell_type": "code",
   "execution_count": 4,
   "metadata": {},
   "outputs": [
    {
     "name": "stdout",
     "output_type": "stream",
     "text": [
      "<class 'pandas.core.frame.DataFrame'>\n",
      "RangeIndex: 12330 entries, 0 to 12329\n",
      "Data columns (total 18 columns):\n",
      " #   Column                   Non-Null Count  Dtype  \n",
      "---  ------                   --------------  -----  \n",
      " 0   Administrative           12316 non-null  float64\n",
      " 1   Administrative_Duration  12316 non-null  float64\n",
      " 2   Informational            12316 non-null  float64\n",
      " 3   Informational_Duration   12316 non-null  float64\n",
      " 4   ProductRelated           12316 non-null  float64\n",
      " 5   ProductRelated_Duration  12316 non-null  float64\n",
      " 6   BounceRates              12316 non-null  float64\n",
      " 7   ExitRates                12316 non-null  float64\n",
      " 8   PageValues               12330 non-null  float64\n",
      " 9   SpecialDay               12330 non-null  float64\n",
      " 10  Month                    12330 non-null  object \n",
      " 11  OperatingSystems         12330 non-null  int64  \n",
      " 12  Browser                  12330 non-null  int64  \n",
      " 13  Region                   12330 non-null  int64  \n",
      " 14  TrafficType              12330 non-null  int64  \n",
      " 15  VisitorType              12330 non-null  object \n",
      " 16  Weekend                  12330 non-null  bool   \n",
      " 17  Revenue                  12330 non-null  bool   \n",
      "dtypes: bool(2), float64(10), int64(4), object(2)\n",
      "memory usage: 1.5+ MB\n"
     ]
    }
   ],
   "source": [
    "df_online.info()"
   ]
  },
  {
   "cell_type": "markdown",
   "metadata": {},
   "source": [
    "#### Features :\n",
    "- Administrative: Jumlah halaman yang dikunjungi oleh pengunjung tentang manajemen akun\n",
    "- Administrative duration: Jumlah waktu (dalam detik) yang dihabiskan oleh pengunjung pada halaman manajemen akun\n",
    "- Informational: Jumlah halaman yang dikunjungi oleh pengunjung tentang situs Web, informasi dan alamat situs belanja\n",
    "- Informational duration: Jumlah waktu (dalam detik) yang dihabiskan oleh pengunjung di halaman informasi\n",
    "- Product related: Jumlah halaman yang dikunjungi oleh pengunjung tentang produk terkait \n",
    "- Product related duration: Jumlah waktu (dalam detik) yang dihabiskan oleh pengunjung pada halaman produk terkait \n",
    "\n",
    "- Bounce rate: Angka presentase kunjungan ke single-page yang tidak diikuti oleh tindakan selanjutnya (pengunjung langsung keluar)\n",
    "- Exit rate: Presentase keluar dari halaman terakhir yang dikunjungi oleh pengunjung sebelum keluar dari situs\n",
    "- Page value: Nilai rata-rata untuk halaman web yang dikunjungi pengguna sebelum menyelesaikan transaksi e-commerce\n",
    "\n",
    "Metrik diukur dengan \"Google Analytics\" untuk setiap halaman di situs e-commerce.\n",
    "\n",
    "- Special Day: Menunjukkan kedekatan waktu kunjungan situs dengan hari khusus tertentu (mis. Hari Ibu, Hari Valentine) di mana sesi lebih mungkin diselesaikan dengan transaksi. Misalnya, untuk hari Valentina, nilai ini mengambil nilai bukan nol antara 2 Februari dan 12 Februari, nol, sebelum dan sesudah tanggal ini kecuali jika dekat dengan hari istimewa lainnya, dan nilai maksimumnya 1 pada 8 Februari\n",
    "\n",
    "- Operating system,browser, region, traffic type : Berbagai jenis sistem operasi, browser, wilayah, dan jenis traffic yang digunakan untuk mengunjungi situs web\n",
    "- Visitor type : Apakah pelanggan yang kembali atau pengunjung baru\n",
    "- Weekend : Nilai Boolean yang menunjukkan apakah tanggal kunjungan adalah akhir pekan\n",
    "- Month : Bulan kunjungan situs web"
   ]
  },
  {
   "cell_type": "code",
   "execution_count": 5,
   "metadata": {},
   "outputs": [
    {
     "data": {
      "text/plain": [
       "Administrative             14\n",
       "Administrative_Duration    14\n",
       "Informational              14\n",
       "Informational_Duration     14\n",
       "ProductRelated             14\n",
       "ProductRelated_Duration    14\n",
       "BounceRates                14\n",
       "ExitRates                  14\n",
       "PageValues                  0\n",
       "SpecialDay                  0\n",
       "Month                       0\n",
       "OperatingSystems            0\n",
       "Browser                     0\n",
       "Region                      0\n",
       "TrafficType                 0\n",
       "VisitorType                 0\n",
       "Weekend                     0\n",
       "Revenue                     0\n",
       "dtype: int64"
      ]
     },
     "execution_count": 5,
     "metadata": {},
     "output_type": "execute_result"
    }
   ],
   "source": [
    "df_online.isnull().sum()"
   ]
  },
  {
   "cell_type": "markdown",
   "metadata": {},
   "source": [
    "Dapat dilihat data diatas memiliki nilai null di beberapa feature seperti Administrative, Administrative_Duration, Informational, Informational_Duration, ProductRelated, ProductRelated_Duration, BounceRates, dan ExitRates. Masing-masing dari fitur tersebut memiliki nilai null sebesar 14. Agar nilai null ini tidak menjadi masalah ketika mengolah data saya memutuskan untuk menghapus nilai null tersebut."
   ]
  },
  {
   "cell_type": "code",
   "execution_count": 6,
   "metadata": {},
   "outputs": [],
   "source": [
    "df_online.dropna(inplace = True)"
   ]
  },
  {
   "cell_type": "code",
   "execution_count": 7,
   "metadata": {},
   "outputs": [
    {
     "data": {
      "text/plain": [
       "Administrative             0\n",
       "Administrative_Duration    0\n",
       "Informational              0\n",
       "Informational_Duration     0\n",
       "ProductRelated             0\n",
       "ProductRelated_Duration    0\n",
       "BounceRates                0\n",
       "ExitRates                  0\n",
       "PageValues                 0\n",
       "SpecialDay                 0\n",
       "Month                      0\n",
       "OperatingSystems           0\n",
       "Browser                    0\n",
       "Region                     0\n",
       "TrafficType                0\n",
       "VisitorType                0\n",
       "Weekend                    0\n",
       "Revenue                    0\n",
       "dtype: int64"
      ]
     },
     "execution_count": 7,
     "metadata": {},
     "output_type": "execute_result"
    }
   ],
   "source": [
    "df_online.isnull().sum()"
   ]
  },
  {
   "cell_type": "markdown",
   "metadata": {},
   "source": [
    "Nilai null yang terdapat pada data sekarang sudah berhasil di hilangkan"
   ]
  },
  {
   "cell_type": "code",
   "execution_count": 8,
   "metadata": {},
   "outputs": [
    {
     "data": {
      "text/plain": [
       "Administrative               27\n",
       "Administrative_Duration    3336\n",
       "Informational                17\n",
       "Informational_Duration     1259\n",
       "ProductRelated              311\n",
       "ProductRelated_Duration    9552\n",
       "BounceRates                1872\n",
       "ExitRates                  4777\n",
       "PageValues                 2704\n",
       "SpecialDay                    6\n",
       "Month                        10\n",
       "OperatingSystems              8\n",
       "Browser                      13\n",
       "Region                        9\n",
       "TrafficType                  20\n",
       "VisitorType                   3\n",
       "Weekend                       2\n",
       "Revenue                       2\n",
       "dtype: int64"
      ]
     },
     "execution_count": 8,
     "metadata": {},
     "output_type": "execute_result"
    }
   ],
   "source": [
    "df_online.nunique()"
   ]
  },
  {
   "cell_type": "code",
   "execution_count": 9,
   "metadata": {},
   "outputs": [
    {
     "data": {
      "text/html": [
       "<div>\n",
       "<style scoped>\n",
       "    .dataframe tbody tr th:only-of-type {\n",
       "        vertical-align: middle;\n",
       "    }\n",
       "\n",
       "    .dataframe tbody tr th {\n",
       "        vertical-align: top;\n",
       "    }\n",
       "\n",
       "    .dataframe thead th {\n",
       "        text-align: right;\n",
       "    }\n",
       "</style>\n",
       "<table border=\"1\" class=\"dataframe\">\n",
       "  <thead>\n",
       "    <tr style=\"text-align: right;\">\n",
       "      <th></th>\n",
       "      <th>Administrative</th>\n",
       "      <th>Administrative_Duration</th>\n",
       "      <th>Informational</th>\n",
       "      <th>Informational_Duration</th>\n",
       "      <th>ProductRelated</th>\n",
       "      <th>ProductRelated_Duration</th>\n",
       "      <th>BounceRates</th>\n",
       "      <th>ExitRates</th>\n",
       "      <th>PageValues</th>\n",
       "      <th>SpecialDay</th>\n",
       "      <th>OperatingSystems</th>\n",
       "      <th>Browser</th>\n",
       "      <th>Region</th>\n",
       "      <th>TrafficType</th>\n",
       "    </tr>\n",
       "  </thead>\n",
       "  <tbody>\n",
       "    <tr>\n",
       "      <th>count</th>\n",
       "      <td>12316.000000</td>\n",
       "      <td>12316.000000</td>\n",
       "      <td>12316.000000</td>\n",
       "      <td>12316.000000</td>\n",
       "      <td>12316.000000</td>\n",
       "      <td>12316.000000</td>\n",
       "      <td>12316.000000</td>\n",
       "      <td>12316.000000</td>\n",
       "      <td>12316.000000</td>\n",
       "      <td>12316.000000</td>\n",
       "      <td>12316.000000</td>\n",
       "      <td>12316.000000</td>\n",
       "      <td>12316.000000</td>\n",
       "      <td>12316.000000</td>\n",
       "    </tr>\n",
       "    <tr>\n",
       "      <th>mean</th>\n",
       "      <td>2.317798</td>\n",
       "      <td>80.906176</td>\n",
       "      <td>0.503979</td>\n",
       "      <td>34.506387</td>\n",
       "      <td>31.763884</td>\n",
       "      <td>1196.037057</td>\n",
       "      <td>0.022152</td>\n",
       "      <td>0.043003</td>\n",
       "      <td>5.895952</td>\n",
       "      <td>0.061497</td>\n",
       "      <td>2.124147</td>\n",
       "      <td>2.357584</td>\n",
       "      <td>3.148019</td>\n",
       "      <td>4.070477</td>\n",
       "    </tr>\n",
       "    <tr>\n",
       "      <th>std</th>\n",
       "      <td>3.322754</td>\n",
       "      <td>176.860432</td>\n",
       "      <td>1.270701</td>\n",
       "      <td>140.825479</td>\n",
       "      <td>44.490339</td>\n",
       "      <td>1914.372511</td>\n",
       "      <td>0.048427</td>\n",
       "      <td>0.048527</td>\n",
       "      <td>18.577926</td>\n",
       "      <td>0.199020</td>\n",
       "      <td>0.911566</td>\n",
       "      <td>1.718028</td>\n",
       "      <td>2.402211</td>\n",
       "      <td>4.024598</td>\n",
       "    </tr>\n",
       "    <tr>\n",
       "      <th>min</th>\n",
       "      <td>0.000000</td>\n",
       "      <td>-1.000000</td>\n",
       "      <td>0.000000</td>\n",
       "      <td>-1.000000</td>\n",
       "      <td>0.000000</td>\n",
       "      <td>-1.000000</td>\n",
       "      <td>0.000000</td>\n",
       "      <td>0.000000</td>\n",
       "      <td>0.000000</td>\n",
       "      <td>0.000000</td>\n",
       "      <td>1.000000</td>\n",
       "      <td>1.000000</td>\n",
       "      <td>1.000000</td>\n",
       "      <td>1.000000</td>\n",
       "    </tr>\n",
       "    <tr>\n",
       "      <th>25%</th>\n",
       "      <td>0.000000</td>\n",
       "      <td>0.000000</td>\n",
       "      <td>0.000000</td>\n",
       "      <td>0.000000</td>\n",
       "      <td>7.000000</td>\n",
       "      <td>185.000000</td>\n",
       "      <td>0.000000</td>\n",
       "      <td>0.014286</td>\n",
       "      <td>0.000000</td>\n",
       "      <td>0.000000</td>\n",
       "      <td>2.000000</td>\n",
       "      <td>2.000000</td>\n",
       "      <td>1.000000</td>\n",
       "      <td>2.000000</td>\n",
       "    </tr>\n",
       "    <tr>\n",
       "      <th>50%</th>\n",
       "      <td>1.000000</td>\n",
       "      <td>8.000000</td>\n",
       "      <td>0.000000</td>\n",
       "      <td>0.000000</td>\n",
       "      <td>18.000000</td>\n",
       "      <td>599.766190</td>\n",
       "      <td>0.003119</td>\n",
       "      <td>0.025124</td>\n",
       "      <td>0.000000</td>\n",
       "      <td>0.000000</td>\n",
       "      <td>2.000000</td>\n",
       "      <td>2.000000</td>\n",
       "      <td>3.000000</td>\n",
       "      <td>2.000000</td>\n",
       "    </tr>\n",
       "    <tr>\n",
       "      <th>75%</th>\n",
       "      <td>4.000000</td>\n",
       "      <td>93.500000</td>\n",
       "      <td>0.000000</td>\n",
       "      <td>0.000000</td>\n",
       "      <td>38.000000</td>\n",
       "      <td>1466.479902</td>\n",
       "      <td>0.016684</td>\n",
       "      <td>0.050000</td>\n",
       "      <td>0.000000</td>\n",
       "      <td>0.000000</td>\n",
       "      <td>3.000000</td>\n",
       "      <td>2.000000</td>\n",
       "      <td>4.000000</td>\n",
       "      <td>4.000000</td>\n",
       "    </tr>\n",
       "    <tr>\n",
       "      <th>max</th>\n",
       "      <td>27.000000</td>\n",
       "      <td>3398.750000</td>\n",
       "      <td>24.000000</td>\n",
       "      <td>2549.375000</td>\n",
       "      <td>705.000000</td>\n",
       "      <td>63973.522230</td>\n",
       "      <td>0.200000</td>\n",
       "      <td>0.200000</td>\n",
       "      <td>361.763742</td>\n",
       "      <td>1.000000</td>\n",
       "      <td>8.000000</td>\n",
       "      <td>13.000000</td>\n",
       "      <td>9.000000</td>\n",
       "      <td>20.000000</td>\n",
       "    </tr>\n",
       "  </tbody>\n",
       "</table>\n",
       "</div>"
      ],
      "text/plain": [
       "       Administrative  Administrative_Duration  Informational  \\\n",
       "count    12316.000000             12316.000000   12316.000000   \n",
       "mean         2.317798                80.906176       0.503979   \n",
       "std          3.322754               176.860432       1.270701   \n",
       "min          0.000000                -1.000000       0.000000   \n",
       "25%          0.000000                 0.000000       0.000000   \n",
       "50%          1.000000                 8.000000       0.000000   \n",
       "75%          4.000000                93.500000       0.000000   \n",
       "max         27.000000              3398.750000      24.000000   \n",
       "\n",
       "       Informational_Duration  ProductRelated  ProductRelated_Duration  \\\n",
       "count            12316.000000    12316.000000             12316.000000   \n",
       "mean                34.506387       31.763884              1196.037057   \n",
       "std                140.825479       44.490339              1914.372511   \n",
       "min                 -1.000000        0.000000                -1.000000   \n",
       "25%                  0.000000        7.000000               185.000000   \n",
       "50%                  0.000000       18.000000               599.766190   \n",
       "75%                  0.000000       38.000000              1466.479902   \n",
       "max               2549.375000      705.000000             63973.522230   \n",
       "\n",
       "        BounceRates     ExitRates    PageValues    SpecialDay  \\\n",
       "count  12316.000000  12316.000000  12316.000000  12316.000000   \n",
       "mean       0.022152      0.043003      5.895952      0.061497   \n",
       "std        0.048427      0.048527     18.577926      0.199020   \n",
       "min        0.000000      0.000000      0.000000      0.000000   \n",
       "25%        0.000000      0.014286      0.000000      0.000000   \n",
       "50%        0.003119      0.025124      0.000000      0.000000   \n",
       "75%        0.016684      0.050000      0.000000      0.000000   \n",
       "max        0.200000      0.200000    361.763742      1.000000   \n",
       "\n",
       "       OperatingSystems       Browser        Region   TrafficType  \n",
       "count      12316.000000  12316.000000  12316.000000  12316.000000  \n",
       "mean           2.124147      2.357584      3.148019      4.070477  \n",
       "std            0.911566      1.718028      2.402211      4.024598  \n",
       "min            1.000000      1.000000      1.000000      1.000000  \n",
       "25%            2.000000      2.000000      1.000000      2.000000  \n",
       "50%            2.000000      2.000000      3.000000      2.000000  \n",
       "75%            3.000000      2.000000      4.000000      4.000000  \n",
       "max            8.000000     13.000000      9.000000     20.000000  "
      ]
     },
     "execution_count": 9,
     "metadata": {},
     "output_type": "execute_result"
    }
   ],
   "source": [
    "df_online.describe()"
   ]
  },
  {
   "cell_type": "code",
   "execution_count": 10,
   "metadata": {},
   "outputs": [
    {
     "data": {
      "text/html": [
       "<div>\n",
       "<style scoped>\n",
       "    .dataframe tbody tr th:only-of-type {\n",
       "        vertical-align: middle;\n",
       "    }\n",
       "\n",
       "    .dataframe tbody tr th {\n",
       "        vertical-align: top;\n",
       "    }\n",
       "\n",
       "    .dataframe thead th {\n",
       "        text-align: right;\n",
       "    }\n",
       "</style>\n",
       "<table border=\"1\" class=\"dataframe\">\n",
       "  <thead>\n",
       "    <tr style=\"text-align: right;\">\n",
       "      <th></th>\n",
       "      <th>Administrative</th>\n",
       "      <th>Administrative_Duration</th>\n",
       "      <th>Informational</th>\n",
       "      <th>Informational_Duration</th>\n",
       "      <th>ProductRelated</th>\n",
       "      <th>ProductRelated_Duration</th>\n",
       "      <th>BounceRates</th>\n",
       "      <th>ExitRates</th>\n",
       "      <th>PageValues</th>\n",
       "      <th>SpecialDay</th>\n",
       "      <th>Month</th>\n",
       "      <th>OperatingSystems</th>\n",
       "      <th>Browser</th>\n",
       "      <th>Region</th>\n",
       "      <th>TrafficType</th>\n",
       "      <th>VisitorType</th>\n",
       "      <th>Weekend</th>\n",
       "      <th>Revenue</th>\n",
       "    </tr>\n",
       "  </thead>\n",
       "  <tbody>\n",
       "    <tr>\n",
       "      <th>0</th>\n",
       "      <td>0.0</td>\n",
       "      <td>0.0</td>\n",
       "      <td>0.0</td>\n",
       "      <td>0.0</td>\n",
       "      <td>1.0</td>\n",
       "      <td>0.000000</td>\n",
       "      <td>0.20</td>\n",
       "      <td>0.20</td>\n",
       "      <td>0.0</td>\n",
       "      <td>0.0</td>\n",
       "      <td>Feb</td>\n",
       "      <td>1</td>\n",
       "      <td>1</td>\n",
       "      <td>1</td>\n",
       "      <td>1</td>\n",
       "      <td>Returning_Visitor</td>\n",
       "      <td>False</td>\n",
       "      <td>False</td>\n",
       "    </tr>\n",
       "    <tr>\n",
       "      <th>1</th>\n",
       "      <td>0.0</td>\n",
       "      <td>0.0</td>\n",
       "      <td>0.0</td>\n",
       "      <td>0.0</td>\n",
       "      <td>2.0</td>\n",
       "      <td>64.000000</td>\n",
       "      <td>0.00</td>\n",
       "      <td>0.10</td>\n",
       "      <td>0.0</td>\n",
       "      <td>0.0</td>\n",
       "      <td>Feb</td>\n",
       "      <td>2</td>\n",
       "      <td>2</td>\n",
       "      <td>1</td>\n",
       "      <td>2</td>\n",
       "      <td>Returning_Visitor</td>\n",
       "      <td>False</td>\n",
       "      <td>False</td>\n",
       "    </tr>\n",
       "    <tr>\n",
       "      <th>2</th>\n",
       "      <td>0.0</td>\n",
       "      <td>-1.0</td>\n",
       "      <td>0.0</td>\n",
       "      <td>-1.0</td>\n",
       "      <td>1.0</td>\n",
       "      <td>-1.000000</td>\n",
       "      <td>0.20</td>\n",
       "      <td>0.20</td>\n",
       "      <td>0.0</td>\n",
       "      <td>0.0</td>\n",
       "      <td>Feb</td>\n",
       "      <td>4</td>\n",
       "      <td>1</td>\n",
       "      <td>9</td>\n",
       "      <td>3</td>\n",
       "      <td>Returning_Visitor</td>\n",
       "      <td>False</td>\n",
       "      <td>False</td>\n",
       "    </tr>\n",
       "    <tr>\n",
       "      <th>3</th>\n",
       "      <td>0.0</td>\n",
       "      <td>0.0</td>\n",
       "      <td>0.0</td>\n",
       "      <td>0.0</td>\n",
       "      <td>2.0</td>\n",
       "      <td>2.666667</td>\n",
       "      <td>0.05</td>\n",
       "      <td>0.14</td>\n",
       "      <td>0.0</td>\n",
       "      <td>0.0</td>\n",
       "      <td>Feb</td>\n",
       "      <td>3</td>\n",
       "      <td>2</td>\n",
       "      <td>2</td>\n",
       "      <td>4</td>\n",
       "      <td>Returning_Visitor</td>\n",
       "      <td>False</td>\n",
       "      <td>False</td>\n",
       "    </tr>\n",
       "    <tr>\n",
       "      <th>4</th>\n",
       "      <td>0.0</td>\n",
       "      <td>0.0</td>\n",
       "      <td>0.0</td>\n",
       "      <td>0.0</td>\n",
       "      <td>10.0</td>\n",
       "      <td>627.500000</td>\n",
       "      <td>0.02</td>\n",
       "      <td>0.05</td>\n",
       "      <td>0.0</td>\n",
       "      <td>0.0</td>\n",
       "      <td>Feb</td>\n",
       "      <td>3</td>\n",
       "      <td>3</td>\n",
       "      <td>1</td>\n",
       "      <td>4</td>\n",
       "      <td>Returning_Visitor</td>\n",
       "      <td>True</td>\n",
       "      <td>False</td>\n",
       "    </tr>\n",
       "  </tbody>\n",
       "</table>\n",
       "</div>"
      ],
      "text/plain": [
       "   Administrative  Administrative_Duration  Informational  \\\n",
       "0             0.0                      0.0            0.0   \n",
       "1             0.0                      0.0            0.0   \n",
       "2             0.0                     -1.0            0.0   \n",
       "3             0.0                      0.0            0.0   \n",
       "4             0.0                      0.0            0.0   \n",
       "\n",
       "   Informational_Duration  ProductRelated  ProductRelated_Duration  \\\n",
       "0                     0.0             1.0                 0.000000   \n",
       "1                     0.0             2.0                64.000000   \n",
       "2                    -1.0             1.0                -1.000000   \n",
       "3                     0.0             2.0                 2.666667   \n",
       "4                     0.0            10.0               627.500000   \n",
       "\n",
       "   BounceRates  ExitRates  PageValues  SpecialDay Month  OperatingSystems  \\\n",
       "0         0.20       0.20         0.0         0.0   Feb                 1   \n",
       "1         0.00       0.10         0.0         0.0   Feb                 2   \n",
       "2         0.20       0.20         0.0         0.0   Feb                 4   \n",
       "3         0.05       0.14         0.0         0.0   Feb                 3   \n",
       "4         0.02       0.05         0.0         0.0   Feb                 3   \n",
       "\n",
       "   Browser  Region  TrafficType        VisitorType  Weekend  Revenue  \n",
       "0        1       1            1  Returning_Visitor    False    False  \n",
       "1        2       1            2  Returning_Visitor    False    False  \n",
       "2        1       9            3  Returning_Visitor    False    False  \n",
       "3        2       2            4  Returning_Visitor    False    False  \n",
       "4        3       1            4  Returning_Visitor     True    False  "
      ]
     },
     "execution_count": 10,
     "metadata": {},
     "output_type": "execute_result"
    }
   ],
   "source": [
    "df_online.head()"
   ]
  },
  {
   "cell_type": "markdown",
   "metadata": {},
   "source": [
    "Dapat dilihat pada feature Administrative_Duration, Informational_Duration, dan ProductRelated_Duration terdapat beberapa nilai negatif yang dimana hal tersebut tidak masuk akal. "
   ]
  },
  {
   "cell_type": "code",
   "execution_count": 11,
   "metadata": {},
   "outputs": [
    {
     "name": "stdout",
     "output_type": "stream",
     "text": [
      " The length of each durations are 33 ,33 , 33\n"
     ]
    }
   ],
   "source": [
    "neg_ad_dur = df_online[df_online['Administrative_Duration'] < 0]\n",
    "neg_info_dur = df_online[df_online['Informational_Duration'] < 0]\n",
    "neg_prd_dur = df_online[df_online['ProductRelated_Duration'] < 0]\n",
    "print(\" The length of each durations are {} ,{} , {}\".format(len(neg_ad_dur), len(neg_info_dur),len(neg_prd_dur)))"
   ]
  },
  {
   "cell_type": "markdown",
   "metadata": {},
   "source": [
    "Setelah dicek kembali kita temukan sebanyak 33 nilai -1 dari tiap feature tersebut dan tentunya kita akan drop nilai tersebut"
   ]
  },
  {
   "cell_type": "code",
   "execution_count": 12,
   "metadata": {},
   "outputs": [
    {
     "data": {
      "text/html": [
       "<div>\n",
       "<style scoped>\n",
       "    .dataframe tbody tr th:only-of-type {\n",
       "        vertical-align: middle;\n",
       "    }\n",
       "\n",
       "    .dataframe tbody tr th {\n",
       "        vertical-align: top;\n",
       "    }\n",
       "\n",
       "    .dataframe thead th {\n",
       "        text-align: right;\n",
       "    }\n",
       "</style>\n",
       "<table border=\"1\" class=\"dataframe\">\n",
       "  <thead>\n",
       "    <tr style=\"text-align: right;\">\n",
       "      <th></th>\n",
       "      <th>Administrative</th>\n",
       "      <th>Administrative_Duration</th>\n",
       "      <th>Informational</th>\n",
       "      <th>Informational_Duration</th>\n",
       "      <th>ProductRelated</th>\n",
       "      <th>ProductRelated_Duration</th>\n",
       "      <th>BounceRates</th>\n",
       "      <th>ExitRates</th>\n",
       "      <th>PageValues</th>\n",
       "      <th>SpecialDay</th>\n",
       "      <th>OperatingSystems</th>\n",
       "      <th>Browser</th>\n",
       "      <th>Region</th>\n",
       "      <th>TrafficType</th>\n",
       "    </tr>\n",
       "  </thead>\n",
       "  <tbody>\n",
       "    <tr>\n",
       "      <th>count</th>\n",
       "      <td>12283.000000</td>\n",
       "      <td>12283.000000</td>\n",
       "      <td>12283.000000</td>\n",
       "      <td>12283.000000</td>\n",
       "      <td>12283.000000</td>\n",
       "      <td>12283.000000</td>\n",
       "      <td>12283.000000</td>\n",
       "      <td>12283.000000</td>\n",
       "      <td>12283.000000</td>\n",
       "      <td>12283.000000</td>\n",
       "      <td>12283.000000</td>\n",
       "      <td>12283.000000</td>\n",
       "      <td>12283.000000</td>\n",
       "      <td>12283.000000</td>\n",
       "    </tr>\n",
       "    <tr>\n",
       "      <th>mean</th>\n",
       "      <td>2.323862</td>\n",
       "      <td>81.126229</td>\n",
       "      <td>0.505333</td>\n",
       "      <td>34.601780</td>\n",
       "      <td>31.846536</td>\n",
       "      <td>1199.253065</td>\n",
       "      <td>0.021723</td>\n",
       "      <td>0.042611</td>\n",
       "      <td>5.911793</td>\n",
       "      <td>0.061532</td>\n",
       "      <td>2.124318</td>\n",
       "      <td>2.356997</td>\n",
       "      <td>3.147114</td>\n",
       "      <td>4.071969</td>\n",
       "    </tr>\n",
       "    <tr>\n",
       "      <th>std</th>\n",
       "      <td>3.325128</td>\n",
       "      <td>177.046838</td>\n",
       "      <td>1.272138</td>\n",
       "      <td>141.002498</td>\n",
       "      <td>44.521443</td>\n",
       "      <td>1915.935446</td>\n",
       "      <td>0.047686</td>\n",
       "      <td>0.047964</td>\n",
       "      <td>18.600350</td>\n",
       "      <td>0.199122</td>\n",
       "      <td>0.911718</td>\n",
       "      <td>1.717264</td>\n",
       "      <td>2.401981</td>\n",
       "      <td>4.025428</td>\n",
       "    </tr>\n",
       "    <tr>\n",
       "      <th>min</th>\n",
       "      <td>0.000000</td>\n",
       "      <td>0.000000</td>\n",
       "      <td>0.000000</td>\n",
       "      <td>0.000000</td>\n",
       "      <td>0.000000</td>\n",
       "      <td>0.000000</td>\n",
       "      <td>0.000000</td>\n",
       "      <td>0.000000</td>\n",
       "      <td>0.000000</td>\n",
       "      <td>0.000000</td>\n",
       "      <td>1.000000</td>\n",
       "      <td>1.000000</td>\n",
       "      <td>1.000000</td>\n",
       "      <td>1.000000</td>\n",
       "    </tr>\n",
       "    <tr>\n",
       "      <th>25%</th>\n",
       "      <td>0.000000</td>\n",
       "      <td>0.000000</td>\n",
       "      <td>0.000000</td>\n",
       "      <td>0.000000</td>\n",
       "      <td>7.000000</td>\n",
       "      <td>187.100000</td>\n",
       "      <td>0.000000</td>\n",
       "      <td>0.014286</td>\n",
       "      <td>0.000000</td>\n",
       "      <td>0.000000</td>\n",
       "      <td>2.000000</td>\n",
       "      <td>2.000000</td>\n",
       "      <td>1.000000</td>\n",
       "      <td>2.000000</td>\n",
       "    </tr>\n",
       "    <tr>\n",
       "      <th>50%</th>\n",
       "      <td>1.000000</td>\n",
       "      <td>8.000000</td>\n",
       "      <td>0.000000</td>\n",
       "      <td>0.000000</td>\n",
       "      <td>18.000000</td>\n",
       "      <td>602.500000</td>\n",
       "      <td>0.003077</td>\n",
       "      <td>0.025000</td>\n",
       "      <td>0.000000</td>\n",
       "      <td>0.000000</td>\n",
       "      <td>2.000000</td>\n",
       "      <td>2.000000</td>\n",
       "      <td>3.000000</td>\n",
       "      <td>2.000000</td>\n",
       "    </tr>\n",
       "    <tr>\n",
       "      <th>75%</th>\n",
       "      <td>4.000000</td>\n",
       "      <td>93.950000</td>\n",
       "      <td>0.000000</td>\n",
       "      <td>0.000000</td>\n",
       "      <td>38.000000</td>\n",
       "      <td>1470.909852</td>\n",
       "      <td>0.016667</td>\n",
       "      <td>0.050000</td>\n",
       "      <td>0.000000</td>\n",
       "      <td>0.000000</td>\n",
       "      <td>3.000000</td>\n",
       "      <td>2.000000</td>\n",
       "      <td>4.000000</td>\n",
       "      <td>4.000000</td>\n",
       "    </tr>\n",
       "    <tr>\n",
       "      <th>max</th>\n",
       "      <td>27.000000</td>\n",
       "      <td>3398.750000</td>\n",
       "      <td>24.000000</td>\n",
       "      <td>2549.375000</td>\n",
       "      <td>705.000000</td>\n",
       "      <td>63973.522230</td>\n",
       "      <td>0.200000</td>\n",
       "      <td>0.200000</td>\n",
       "      <td>361.763742</td>\n",
       "      <td>1.000000</td>\n",
       "      <td>8.000000</td>\n",
       "      <td>13.000000</td>\n",
       "      <td>9.000000</td>\n",
       "      <td>20.000000</td>\n",
       "    </tr>\n",
       "  </tbody>\n",
       "</table>\n",
       "</div>"
      ],
      "text/plain": [
       "       Administrative  Administrative_Duration  Informational  \\\n",
       "count    12283.000000             12283.000000   12283.000000   \n",
       "mean         2.323862                81.126229       0.505333   \n",
       "std          3.325128               177.046838       1.272138   \n",
       "min          0.000000                 0.000000       0.000000   \n",
       "25%          0.000000                 0.000000       0.000000   \n",
       "50%          1.000000                 8.000000       0.000000   \n",
       "75%          4.000000                93.950000       0.000000   \n",
       "max         27.000000              3398.750000      24.000000   \n",
       "\n",
       "       Informational_Duration  ProductRelated  ProductRelated_Duration  \\\n",
       "count            12283.000000    12283.000000             12283.000000   \n",
       "mean                34.601780       31.846536              1199.253065   \n",
       "std                141.002498       44.521443              1915.935446   \n",
       "min                  0.000000        0.000000                 0.000000   \n",
       "25%                  0.000000        7.000000               187.100000   \n",
       "50%                  0.000000       18.000000               602.500000   \n",
       "75%                  0.000000       38.000000              1470.909852   \n",
       "max               2549.375000      705.000000             63973.522230   \n",
       "\n",
       "        BounceRates     ExitRates    PageValues    SpecialDay  \\\n",
       "count  12283.000000  12283.000000  12283.000000  12283.000000   \n",
       "mean       0.021723      0.042611      5.911793      0.061532   \n",
       "std        0.047686      0.047964     18.600350      0.199122   \n",
       "min        0.000000      0.000000      0.000000      0.000000   \n",
       "25%        0.000000      0.014286      0.000000      0.000000   \n",
       "50%        0.003077      0.025000      0.000000      0.000000   \n",
       "75%        0.016667      0.050000      0.000000      0.000000   \n",
       "max        0.200000      0.200000    361.763742      1.000000   \n",
       "\n",
       "       OperatingSystems       Browser        Region   TrafficType  \n",
       "count      12283.000000  12283.000000  12283.000000  12283.000000  \n",
       "mean           2.124318      2.356997      3.147114      4.071969  \n",
       "std            0.911718      1.717264      2.401981      4.025428  \n",
       "min            1.000000      1.000000      1.000000      1.000000  \n",
       "25%            2.000000      2.000000      1.000000      2.000000  \n",
       "50%            2.000000      2.000000      3.000000      2.000000  \n",
       "75%            3.000000      2.000000      4.000000      4.000000  \n",
       "max            8.000000     13.000000      9.000000     20.000000  "
      ]
     },
     "execution_count": 12,
     "metadata": {},
     "output_type": "execute_result"
    }
   ],
   "source": [
    "# Dropping the negative Durations\n",
    "df_online = df_online.drop(df_online[df_online['Administrative_Duration'] < 0].index)\n",
    "df_online = df_online.drop(df_online[df_online['Informational_Duration'] < 0].index)\n",
    "df_online = df_online.drop(df_online[df_online['ProductRelated_Duration'] < 0].index)\n",
    "#Checking , no negative values\n",
    "df_online.describe()"
   ]
  },
  {
   "cell_type": "markdown",
   "metadata": {},
   "source": [
    "Sekarang data yang berisikan -1 pada duration telah tidak ada"
   ]
  },
  {
   "cell_type": "markdown",
   "metadata": {},
   "source": [
    "### EDA"
   ]
  },
  {
   "cell_type": "code",
   "execution_count": 13,
   "metadata": {},
   "outputs": [
    {
     "data": {
      "text/plain": [
       "2     3907\n",
       "1     2435\n",
       "3     2036\n",
       "4     1067\n",
       "13     736\n",
       "10     450\n",
       "6      442\n",
       "8      343\n",
       "5      259\n",
       "11     247\n",
       "20     197\n",
       "9       42\n",
       "7       40\n",
       "15      37\n",
       "19      17\n",
       "14      13\n",
       "18      10\n",
       "16       3\n",
       "12       1\n",
       "17       1\n",
       "Name: TrafficType, dtype: int64"
      ]
     },
     "execution_count": 13,
     "metadata": {},
     "output_type": "execute_result"
    }
   ],
   "source": [
    "df_online['TrafficType'].value_counts()"
   ]
  },
  {
   "cell_type": "code",
   "execution_count": 14,
   "metadata": {},
   "outputs": [
    {
     "data": {
      "image/png": "[encoded data removed]",
      "text/plain": [
       "<Figure size 864x576 with 1 Axes>"
      ]
     },
     "metadata": {
      "needs_background": "light"
     },
     "output_type": "display_data"
    }
   ],
   "source": [
    "# Distribution of customers based on Traffic Type\n",
    "plt.figure(figsize = (12,8))\n",
    "sns.countplot(df_online['TrafficType'],palette='coolwarm')\n",
    "plt.title('Different Sources')\n",
    "plt.xlabel('Traffic Type')\n",
    "plt.ylabel('count');"
   ]
  },
  {
   "cell_type": "markdown",
   "metadata": {},
   "source": [
    "Traffic type 2 adalah sumber iklan terbaik untuk situs web. Harus mempertimbangkan sumber lain dan memutuskan apakah diperlukan atau tidak"
   ]
  },
  {
   "cell_type": "code",
   "execution_count": 15,
   "metadata": {},
   "outputs": [
    {
     "data": {
      "text/plain": [
       "1    4765\n",
       "3    2394\n",
       "4    1175\n",
       "2    1130\n",
       "6     804\n",
       "7     758\n",
       "9     508\n",
       "8     434\n",
       "5     315\n",
       "Name: Region, dtype: int64"
      ]
     },
     "execution_count": 15,
     "metadata": {},
     "output_type": "execute_result"
    }
   ],
   "source": [
    "df_online['Region'].value_counts()"
   ]
  },
  {
   "cell_type": "code",
   "execution_count": 16,
   "metadata": {},
   "outputs": [
    {
     "data": {
      "text/plain": [
       "Text(0, 0.5, 'Number of Visitors')"
      ]
     },
     "execution_count": 16,
     "metadata": {},
     "output_type": "execute_result"
    },
    {
     "data": {
      "image/png": "[encoded data removed]",
      "text/plain": [
       "<Figure size 1152x576 with 1 Axes>"
      ]
     },
     "metadata": {
      "needs_background": "light"
     },
     "output_type": "display_data"
    }
   ],
   "source": [
    "plt.figure(figsize = (16,8))\n",
    "sns.countplot(df_online['Region'],palette='husl')\n",
    "plt.title(\"Site Visitors by Region\", fontsize = 16)\n",
    "plt.xlabel(\"Region\", fontsize = 16)\n",
    "plt.ylabel(\"Number of Visitors\", fontsize = 16)"
   ]
  },
  {
   "cell_type": "markdown",
   "metadata": {},
   "source": [
    "Situs web ini umum di antara pelanggan wilayah 1. Harus memberikan promosi di daerah lain untuk meningkatkan penjualan"
   ]
  },
  {
   "cell_type": "code",
   "execution_count": 17,
   "metadata": {},
   "outputs": [
    {
     "data": {
      "image/png": "[encoded data removed]",
      "text/plain": [
       "<Figure size 1152x576 with 1 Axes>"
      ]
     },
     "metadata": {
      "needs_background": "light"
     },
     "output_type": "display_data"
    }
   ],
   "source": [
    "#Distribution of customers based on Browser\n",
    "plt.figure(figsize = (16,8))\n",
    "sns.countplot(df_online['Browser'],palette='pastel')\n",
    "plt.title('Browser Used')\n",
    "plt.xlabel('Browser')\n",
    "plt.ylabel('count');"
   ]
  },
  {
   "cell_type": "markdown",
   "metadata": {},
   "source": [
    "Browser 2 adalah browser yang paling sering digunakan selain browser 2 ada browser 1 juga yang memiliki jumlah pengguna cukup tinggi"
   ]
  },
  {
   "cell_type": "code",
   "execution_count": 18,
   "metadata": {},
   "outputs": [
    {
     "data": {
      "image/png": "[encoded data removed]",
      "text/plain": [
       "<Figure size 864x576 with 1 Axes>"
      ]
     },
     "metadata": {
      "needs_background": "light"
     },
     "output_type": "display_data"
    }
   ],
   "source": [
    "#Distribution of customers based on Operating Systems\n",
    "plt.figure(figsize = (12,8))\n",
    "sns.countplot(df_online['OperatingSystems'],palette='inferno')\n",
    "plt.title('Operating Systems Used')\n",
    "plt.xlabel('Operating Systems')\n",
    "plt.ylabel('count');"
   ]
  },
  {
   "cell_type": "markdown",
   "metadata": {},
   "source": [
    "Sistem Operasi (OS) 2 merupakan OS yang paling banyak digunakan selain itu ada OS 1 dan 3 yang sama-sama memiliki jumlah pengguna yang cukup tinggi, Dari gambar berikut dapat dilihat hubungan antara pertumbuhan pendapatan dan sistem operasi, wilayah browser dan sumber jenis lalu lintas. Sehubungan dengan OS, performa terbaik tetap \"2\" dalam kedua kasus, yaitu pengunjung dan pengunjung yang melakukan pembelian. Namun, posisi berikut sebaliknya diamankan dengan \"1\" dan \"3\". Sumber lain mendatangkan pelanggan yang jauh lebih rendah. Ini bisa berarti bahwa situs web tidak ramah pengguna pada sumber-sumber tersebut atau hanya karena sumber-sumber itu khusus, tidak banyak pelanggan yang menggunakannya. Sehubungan dengan browser, \"2\" tetap di atas diikuti oleh \"1\", \"4\", dan \"5\" dalam kedua kasus. Ini bisa menunjukkan alasan yang sama seperti OS. Berkenaan dengan wilayah, \"1\" tampaknya berkinerja jauh lebih baik diikuti oleh \"3\" di kedua kasus. Prospek \"1\" sangat signifikan yang menunjukkan bahwa jangkauan pemasaran di wilayah ini sudah berpengalaman. Ada ruang untuk perbaikan di wilayah lain. Sehubungan dengan jenis lalu lintas, \"2\" tetap memimpin diikuti dengan \"1\" dan \"3\", menunjukkan dampak pengoptimalan Google SEO."
   ]
  },
  {
   "cell_type": "code",
   "execution_count": 19,
   "metadata": {},
   "outputs": [
    {
     "data": {
      "image/png": "[encoded data removed]",
      "text/plain": [
       "<Figure size 864x576 with 1 Axes>"
      ]
     },
     "metadata": {
      "needs_background": "light"
     },
     "output_type": "display_data"
    }
   ],
   "source": [
    "#Distribution of customers on Months\n",
    "plt.figure(figsize = (12,8))\n",
    "sns.countplot(df_online['Month'],palette='inferno')\n",
    "plt.title('Customers on Different months')\n",
    "plt.xlabel('Months')\n",
    "plt.ylabel('count')\n",
    "plt.show()"
   ]
  },
  {
   "cell_type": "markdown",
   "metadata": {},
   "source": [
    "Dari tabel ini dapat kita lihat 10 bulan dipertimbangkan di sini, (kecuali Januari dan April). Di bulan Mei ini adalah bulan di mana situs web lebih umum digunakan. November, Maret, dan Desember juga cukup penting. Salah satu Festival Tradisional Turki (Festival Ahirkapi Hidirellez) akan diadakan di bulan Mei. Juga hari pemuda dan olahraga nasional dirayakan di bulan Mei. "
   ]
  },
  {
   "cell_type": "code",
   "execution_count": 20,
   "metadata": {},
   "outputs": [
    {
     "data": {
      "text/html": [
       "<div>\n",
       "<style scoped>\n",
       "    .dataframe tbody tr th:only-of-type {\n",
       "        vertical-align: middle;\n",
       "    }\n",
       "\n",
       "    .dataframe tbody tr th {\n",
       "        vertical-align: top;\n",
       "    }\n",
       "\n",
       "    .dataframe thead th {\n",
       "        text-align: right;\n",
       "    }\n",
       "</style>\n",
       "<table border=\"1\" class=\"dataframe\">\n",
       "  <thead>\n",
       "    <tr style=\"text-align: right;\">\n",
       "      <th></th>\n",
       "      <th>Administrative</th>\n",
       "      <th>Administrative_Duration</th>\n",
       "      <th>Informational</th>\n",
       "      <th>Informational_Duration</th>\n",
       "      <th>ProductRelated</th>\n",
       "      <th>ProductRelated_Duration</th>\n",
       "      <th>BounceRates</th>\n",
       "      <th>ExitRates</th>\n",
       "      <th>PageValues</th>\n",
       "      <th>SpecialDay</th>\n",
       "      <th>OperatingSystems</th>\n",
       "      <th>Browser</th>\n",
       "      <th>Region</th>\n",
       "      <th>TrafficType</th>\n",
       "      <th>Weekend</th>\n",
       "      <th>Revenue</th>\n",
       "    </tr>\n",
       "  </thead>\n",
       "  <tbody>\n",
       "    <tr>\n",
       "      <th>Administrative</th>\n",
       "      <td>1.000000</td>\n",
       "      <td>0.601171</td>\n",
       "      <td>0.376374</td>\n",
       "      <td>0.255479</td>\n",
       "      <td>0.430116</td>\n",
       "      <td>0.372935</td>\n",
       "      <td>-0.221188</td>\n",
       "      <td>-0.314919</td>\n",
       "      <td>0.098267</td>\n",
       "      <td>-0.095300</td>\n",
       "      <td>-0.006594</td>\n",
       "      <td>-0.025055</td>\n",
       "      <td>-0.005385</td>\n",
       "      <td>-0.034072</td>\n",
       "      <td>0.025780</td>\n",
       "      <td>0.137970</td>\n",
       "    </tr>\n",
       "    <tr>\n",
       "      <th>Administrative_Duration</th>\n",
       "      <td>0.601171</td>\n",
       "      <td>1.000000</td>\n",
       "      <td>0.302304</td>\n",
       "      <td>0.237734</td>\n",
       "      <td>0.288277</td>\n",
       "      <td>0.354749</td>\n",
       "      <td>-0.142435</td>\n",
       "      <td>-0.204583</td>\n",
       "      <td>0.067096</td>\n",
       "      <td>-0.073636</td>\n",
       "      <td>-0.007523</td>\n",
       "      <td>-0.015399</td>\n",
       "      <td>-0.005517</td>\n",
       "      <td>-0.014680</td>\n",
       "      <td>0.014586</td>\n",
       "      <td>0.092911</td>\n",
       "    </tr>\n",
       "    <tr>\n",
       "      <th>Informational</th>\n",
       "      <td>0.376374</td>\n",
       "      <td>0.302304</td>\n",
       "      <td>1.000000</td>\n",
       "      <td>0.618880</td>\n",
       "      <td>0.373680</td>\n",
       "      <td>0.387065</td>\n",
       "      <td>-0.114485</td>\n",
       "      <td>-0.162471</td>\n",
       "      <td>0.048217</td>\n",
       "      <td>-0.048448</td>\n",
       "      <td>-0.009522</td>\n",
       "      <td>-0.038197</td>\n",
       "      <td>-0.029341</td>\n",
       "      <td>-0.034704</td>\n",
       "      <td>0.035234</td>\n",
       "      <td>0.094672</td>\n",
       "    </tr>\n",
       "    <tr>\n",
       "      <th>Informational_Duration</th>\n",
       "      <td>0.255479</td>\n",
       "      <td>0.237734</td>\n",
       "      <td>0.618880</td>\n",
       "      <td>1.000000</td>\n",
       "      <td>0.279701</td>\n",
       "      <td>0.347088</td>\n",
       "      <td>-0.073064</td>\n",
       "      <td>-0.104530</td>\n",
       "      <td>0.030579</td>\n",
       "      <td>-0.030731</td>\n",
       "      <td>-0.009656</td>\n",
       "      <td>-0.019296</td>\n",
       "      <td>-0.027190</td>\n",
       "      <td>-0.024855</td>\n",
       "      <td>0.023847</td>\n",
       "      <td>0.069984</td>\n",
       "    </tr>\n",
       "    <tr>\n",
       "      <th>ProductRelated</th>\n",
       "      <td>0.430116</td>\n",
       "      <td>0.288277</td>\n",
       "      <td>0.373680</td>\n",
       "      <td>0.279701</td>\n",
       "      <td>1.000000</td>\n",
       "      <td>0.860711</td>\n",
       "      <td>-0.201828</td>\n",
       "      <td>-0.290579</td>\n",
       "      <td>0.055521</td>\n",
       "      <td>-0.024348</td>\n",
       "      <td>0.004071</td>\n",
       "      <td>-0.013122</td>\n",
       "      <td>-0.038137</td>\n",
       "      <td>-0.043569</td>\n",
       "      <td>0.015496</td>\n",
       "      <td>0.157624</td>\n",
       "    </tr>\n",
       "    <tr>\n",
       "      <th>ProductRelated_Duration</th>\n",
       "      <td>0.372935</td>\n",
       "      <td>0.354749</td>\n",
       "      <td>0.387065</td>\n",
       "      <td>0.347088</td>\n",
       "      <td>0.860711</td>\n",
       "      <td>1.000000</td>\n",
       "      <td>-0.181990</td>\n",
       "      <td>-0.249958</td>\n",
       "      <td>0.052124</td>\n",
       "      <td>-0.036757</td>\n",
       "      <td>0.002773</td>\n",
       "      <td>-0.007352</td>\n",
       "      <td>-0.033093</td>\n",
       "      <td>-0.036831</td>\n",
       "      <td>0.006739</td>\n",
       "      <td>0.151528</td>\n",
       "    </tr>\n",
       "    <tr>\n",
       "      <th>BounceRates</th>\n",
       "      <td>-0.221188</td>\n",
       "      <td>-0.142435</td>\n",
       "      <td>-0.114485</td>\n",
       "      <td>-0.073064</td>\n",
       "      <td>-0.201828</td>\n",
       "      <td>-0.181990</td>\n",
       "      <td>1.000000</td>\n",
       "      <td>0.911252</td>\n",
       "      <td>-0.118532</td>\n",
       "      <td>0.074726</td>\n",
       "      <td>0.025334</td>\n",
       "      <td>-0.017798</td>\n",
       "      <td>-0.008184</td>\n",
       "      <td>0.081602</td>\n",
       "      <td>-0.044896</td>\n",
       "      <td>-0.149348</td>\n",
       "    </tr>\n",
       "    <tr>\n",
       "      <th>ExitRates</th>\n",
       "      <td>-0.314919</td>\n",
       "      <td>-0.204583</td>\n",
       "      <td>-0.162471</td>\n",
       "      <td>-0.104530</td>\n",
       "      <td>-0.290579</td>\n",
       "      <td>-0.249958</td>\n",
       "      <td>0.911252</td>\n",
       "      <td>1.000000</td>\n",
       "      <td>-0.174110</td>\n",
       "      <td>0.104718</td>\n",
       "      <td>0.015734</td>\n",
       "      <td>-0.005722</td>\n",
       "      <td>-0.010122</td>\n",
       "      <td>0.081245</td>\n",
       "      <td>-0.061203</td>\n",
       "      <td>-0.206145</td>\n",
       "    </tr>\n",
       "    <tr>\n",
       "      <th>PageValues</th>\n",
       "      <td>0.098267</td>\n",
       "      <td>0.067096</td>\n",
       "      <td>0.048217</td>\n",
       "      <td>0.030579</td>\n",
       "      <td>0.055521</td>\n",
       "      <td>0.052124</td>\n",
       "      <td>-0.118532</td>\n",
       "      <td>-0.174110</td>\n",
       "      <td>1.000000</td>\n",
       "      <td>-0.063777</td>\n",
       "      <td>0.018430</td>\n",
       "      <td>0.045707</td>\n",
       "      <td>0.011370</td>\n",
       "      <td>0.012369</td>\n",
       "      <td>0.011718</td>\n",
       "      <td>0.492317</td>\n",
       "    </tr>\n",
       "    <tr>\n",
       "      <th>SpecialDay</th>\n",
       "      <td>-0.095300</td>\n",
       "      <td>-0.073636</td>\n",
       "      <td>-0.048448</td>\n",
       "      <td>-0.030731</td>\n",
       "      <td>-0.024348</td>\n",
       "      <td>-0.036757</td>\n",
       "      <td>0.074726</td>\n",
       "      <td>0.104718</td>\n",
       "      <td>-0.063777</td>\n",
       "      <td>1.000000</td>\n",
       "      <td>0.012127</td>\n",
       "      <td>0.003472</td>\n",
       "      <td>-0.015864</td>\n",
       "      <td>0.052496</td>\n",
       "      <td>-0.016738</td>\n",
       "      <td>-0.082632</td>\n",
       "    </tr>\n",
       "    <tr>\n",
       "      <th>OperatingSystems</th>\n",
       "      <td>-0.006594</td>\n",
       "      <td>-0.007523</td>\n",
       "      <td>-0.009522</td>\n",
       "      <td>-0.009656</td>\n",
       "      <td>0.004071</td>\n",
       "      <td>0.002773</td>\n",
       "      <td>0.025334</td>\n",
       "      <td>0.015734</td>\n",
       "      <td>0.018430</td>\n",
       "      <td>0.012127</td>\n",
       "      <td>1.000000</td>\n",
       "      <td>0.223660</td>\n",
       "      <td>0.076677</td>\n",
       "      <td>0.189794</td>\n",
       "      <td>0.000676</td>\n",
       "      <td>-0.014841</td>\n",
       "    </tr>\n",
       "    <tr>\n",
       "      <th>Browser</th>\n",
       "      <td>-0.025055</td>\n",
       "      <td>-0.015399</td>\n",
       "      <td>-0.038197</td>\n",
       "      <td>-0.019296</td>\n",
       "      <td>-0.013122</td>\n",
       "      <td>-0.007352</td>\n",
       "      <td>-0.017798</td>\n",
       "      <td>-0.005722</td>\n",
       "      <td>0.045707</td>\n",
       "      <td>0.003472</td>\n",
       "      <td>0.223660</td>\n",
       "      <td>1.000000</td>\n",
       "      <td>0.097982</td>\n",
       "      <td>0.113006</td>\n",
       "      <td>-0.039895</td>\n",
       "      <td>0.024063</td>\n",
       "    </tr>\n",
       "    <tr>\n",
       "      <th>Region</th>\n",
       "      <td>-0.005385</td>\n",
       "      <td>-0.005517</td>\n",
       "      <td>-0.029341</td>\n",
       "      <td>-0.027190</td>\n",
       "      <td>-0.038137</td>\n",
       "      <td>-0.033093</td>\n",
       "      <td>-0.008184</td>\n",
       "      <td>-0.010122</td>\n",
       "      <td>0.011370</td>\n",
       "      <td>-0.015864</td>\n",
       "      <td>0.076677</td>\n",
       "      <td>0.097982</td>\n",
       "      <td>1.000000</td>\n",
       "      <td>0.048141</td>\n",
       "      <td>-0.000645</td>\n",
       "      <td>-0.011575</td>\n",
       "    </tr>\n",
       "    <tr>\n",
       "      <th>TrafficType</th>\n",
       "      <td>-0.034072</td>\n",
       "      <td>-0.014680</td>\n",
       "      <td>-0.034704</td>\n",
       "      <td>-0.024855</td>\n",
       "      <td>-0.043569</td>\n",
       "      <td>-0.036831</td>\n",
       "      <td>0.081602</td>\n",
       "      <td>0.081245</td>\n",
       "      <td>0.012369</td>\n",
       "      <td>0.052496</td>\n",
       "      <td>0.189794</td>\n",
       "      <td>0.113006</td>\n",
       "      <td>0.048141</td>\n",
       "      <td>1.000000</td>\n",
       "      <td>-0.002678</td>\n",
       "      <td>-0.005378</td>\n",
       "    </tr>\n",
       "    <tr>\n",
       "      <th>Weekend</th>\n",
       "      <td>0.025780</td>\n",
       "      <td>0.014586</td>\n",
       "      <td>0.035234</td>\n",
       "      <td>0.023847</td>\n",
       "      <td>0.015496</td>\n",
       "      <td>0.006739</td>\n",
       "      <td>-0.044896</td>\n",
       "      <td>-0.061203</td>\n",
       "      <td>0.011718</td>\n",
       "      <td>-0.016738</td>\n",
       "      <td>0.000676</td>\n",
       "      <td>-0.039895</td>\n",
       "      <td>-0.000645</td>\n",
       "      <td>-0.002678</td>\n",
       "      <td>1.000000</td>\n",
       "      <td>0.028937</td>\n",
       "    </tr>\n",
       "    <tr>\n",
       "      <th>Revenue</th>\n",
       "      <td>0.137970</td>\n",
       "      <td>0.092911</td>\n",
       "      <td>0.094672</td>\n",
       "      <td>0.069984</td>\n",
       "      <td>0.157624</td>\n",
       "      <td>0.151528</td>\n",
       "      <td>-0.149348</td>\n",
       "      <td>-0.206145</td>\n",
       "      <td>0.492317</td>\n",
       "      <td>-0.082632</td>\n",
       "      <td>-0.014841</td>\n",
       "      <td>0.024063</td>\n",
       "      <td>-0.011575</td>\n",
       "      <td>-0.005378</td>\n",
       "      <td>0.028937</td>\n",
       "      <td>1.000000</td>\n",
       "    </tr>\n",
       "  </tbody>\n",
       "</table>\n",
       "</div>"
      ],
      "text/plain": [
       "                         Administrative  Administrative_Duration  \\\n",
       "Administrative                 1.000000                 0.601171   \n",
       "Administrative_Duration        0.601171                 1.000000   \n",
       "Informational                  0.376374                 0.302304   \n",
       "Informational_Duration         0.255479                 0.237734   \n",
       "ProductRelated                 0.430116                 0.288277   \n",
       "ProductRelated_Duration        0.372935                 0.354749   \n",
       "BounceRates                   -0.221188                -0.142435   \n",
       "ExitRates                     -0.314919                -0.204583   \n",
       "PageValues                     0.098267                 0.067096   \n",
       "SpecialDay                    -0.095300                -0.073636   \n",
       "OperatingSystems              -0.006594                -0.007523   \n",
       "Browser                       -0.025055                -0.015399   \n",
       "Region                        -0.005385                -0.005517   \n",
       "TrafficType                   -0.034072                -0.014680   \n",
       "Weekend                        0.025780                 0.014586   \n",
       "Revenue                        0.137970                 0.092911   \n",
       "\n",
       "                         Informational  Informational_Duration  \\\n",
       "Administrative                0.376374                0.255479   \n",
       "Administrative_Duration       0.302304                0.237734   \n",
       "Informational                 1.000000                0.618880   \n",
       "Informational_Duration        0.618880                1.000000   \n",
       "ProductRelated                0.373680                0.279701   \n",
       "ProductRelated_Duration       0.387065                0.347088   \n",
       "BounceRates                  -0.114485               -0.073064   \n",
       "ExitRates                    -0.162471               -0.104530   \n",
       "PageValues                    0.048217                0.030579   \n",
       "SpecialDay                   -0.048448               -0.030731   \n",
       "OperatingSystems             -0.009522               -0.009656   \n",
       "Browser                      -0.038197               -0.019296   \n",
       "Region                       -0.029341               -0.027190   \n",
       "TrafficType                  -0.034704               -0.024855   \n",
       "Weekend                       0.035234                0.023847   \n",
       "Revenue                       0.094672                0.069984   \n",
       "\n",
       "                         ProductRelated  ProductRelated_Duration  BounceRates  \\\n",
       "Administrative                 0.430116                 0.372935    -0.221188   \n",
       "Administrative_Duration        0.288277                 0.354749    -0.142435   \n",
       "Informational                  0.373680                 0.387065    -0.114485   \n",
       "Informational_Duration         0.279701                 0.347088    -0.073064   \n",
       "ProductRelated                 1.000000                 0.860711    -0.201828   \n",
       "ProductRelated_Duration        0.860711                 1.000000    -0.181990   \n",
       "BounceRates                   -0.201828                -0.181990     1.000000   \n",
       "ExitRates                     -0.290579                -0.249958     0.911252   \n",
       "PageValues                     0.055521                 0.052124    -0.118532   \n",
       "SpecialDay                    -0.024348                -0.036757     0.074726   \n",
       "OperatingSystems               0.004071                 0.002773     0.025334   \n",
       "Browser                       -0.013122                -0.007352    -0.017798   \n",
       "Region                        -0.038137                -0.033093    -0.008184   \n",
       "TrafficType                   -0.043569                -0.036831     0.081602   \n",
       "Weekend                        0.015496                 0.006739    -0.044896   \n",
       "Revenue                        0.157624                 0.151528    -0.149348   \n",
       "\n",
       "                         ExitRates  PageValues  SpecialDay  OperatingSystems  \\\n",
       "Administrative           -0.314919    0.098267   -0.095300         -0.006594   \n",
       "Administrative_Duration  -0.204583    0.067096   -0.073636         -0.007523   \n",
       "Informational            -0.162471    0.048217   -0.048448         -0.009522   \n",
       "Informational_Duration   -0.104530    0.030579   -0.030731         -0.009656   \n",
       "ProductRelated           -0.290579    0.055521   -0.024348          0.004071   \n",
       "ProductRelated_Duration  -0.249958    0.052124   -0.036757          0.002773   \n",
       "BounceRates               0.911252   -0.118532    0.074726          0.025334   \n",
       "ExitRates                 1.000000   -0.174110    0.104718          0.015734   \n",
       "PageValues               -0.174110    1.000000   -0.063777          0.018430   \n",
       "SpecialDay                0.104718   -0.063777    1.000000          0.012127   \n",
       "OperatingSystems          0.015734    0.018430    0.012127          1.000000   \n",
       "Browser                  -0.005722    0.045707    0.003472          0.223660   \n",
       "Region                   -0.010122    0.011370   -0.015864          0.076677   \n",
       "TrafficType               0.081245    0.012369    0.052496          0.189794   \n",
       "Weekend                  -0.061203    0.011718   -0.016738          0.000676   \n",
       "Revenue                  -0.206145    0.492317   -0.082632         -0.014841   \n",
       "\n",
       "                          Browser    Region  TrafficType   Weekend   Revenue  \n",
       "Administrative          -0.025055 -0.005385    -0.034072  0.025780  0.137970  \n",
       "Administrative_Duration -0.015399 -0.005517    -0.014680  0.014586  0.092911  \n",
       "Informational           -0.038197 -0.029341    -0.034704  0.035234  0.094672  \n",
       "Informational_Duration  -0.019296 -0.027190    -0.024855  0.023847  0.069984  \n",
       "ProductRelated          -0.013122 -0.038137    -0.043569  0.015496  0.157624  \n",
       "ProductRelated_Duration -0.007352 -0.033093    -0.036831  0.006739  0.151528  \n",
       "BounceRates             -0.017798 -0.008184     0.081602 -0.044896 -0.149348  \n",
       "ExitRates               -0.005722 -0.010122     0.081245 -0.061203 -0.206145  \n",
       "PageValues               0.045707  0.011370     0.012369  0.011718  0.492317  \n",
       "SpecialDay               0.003472 -0.015864     0.052496 -0.016738 -0.082632  \n",
       "OperatingSystems         0.223660  0.076677     0.189794  0.000676 -0.014841  \n",
       "Browser                  1.000000  0.097982     0.113006 -0.039895  0.024063  \n",
       "Region                   0.097982  1.000000     0.048141 -0.000645 -0.011575  \n",
       "TrafficType              0.113006  0.048141     1.000000 -0.002678 -0.005378  \n",
       "Weekend                 -0.039895 -0.000645    -0.002678  1.000000  0.028937  \n",
       "Revenue                  0.024063 -0.011575    -0.005378  0.028937  1.000000  "
      ]
     },
     "execution_count": 20,
     "metadata": {},
     "output_type": "execute_result"
    }
   ],
   "source": [
    "df_online.corr()"
   ]
  },
  {
   "cell_type": "code",
   "execution_count": 21,
   "metadata": {},
   "outputs": [
    {
     "data": {
      "image/png": "[encoded data removed]",
      "text/plain": [
       "<Figure size 1008x576 with 2 Axes>"
      ]
     },
     "metadata": {
      "needs_background": "light"
     },
     "output_type": "display_data"
    }
   ],
   "source": [
    "plt.figure(figsize=(14,8))\n",
    "sns.heatmap(df_online.corr(), annot = True, cmap='coolwarm',linewidths=.1)\n",
    "plt.show()"
   ]
  },
  {
   "cell_type": "code",
   "execution_count": 23,
   "metadata": {},
   "outputs": [
    {
     "data": {
      "text/plain": [
       "<matplotlib.axes._subplots.AxesSubplot at 0x27db4913940>"
      ]
     },
     "execution_count": 23,
     "metadata": {},
     "output_type": "execute_result"
    },
    {
     "data": {
      "image/png": "[encoded data removed]",
      "text/plain": [
       "<Figure size 432x288 with 1 Axes>"
      ]
     },
     "metadata": {
      "needs_background": "light"
     },
     "output_type": "display_data"
    }
   ],
   "source": [
    "#different users\n",
    "sns.countplot(x = df_online.VisitorType)"
   ]
  },
  {
   "cell_type": "code",
   "execution_count": 24,
   "metadata": {},
   "outputs": [
    {
     "data": {
      "text/plain": [
       "Returning_Visitor    10504\n",
       "New_Visitor           1694\n",
       "Other                   85\n",
       "Name: VisitorType, dtype: int64"
      ]
     },
     "execution_count": 24,
     "metadata": {},
     "output_type": "execute_result"
    }
   ],
   "source": [
    "df_online['VisitorType'].value_counts()"
   ]
  },
  {
   "cell_type": "code",
   "execution_count": 25,
   "metadata": {},
   "outputs": [
    {
     "data": {
      "text/plain": [
       "0.0    11035\n",
       "0.6      349\n",
       "0.8      325\n",
       "0.4      242\n",
       "0.2      178\n",
       "1.0      154\n",
       "Name: SpecialDay, dtype: int64"
      ]
     },
     "execution_count": 25,
     "metadata": {},
     "output_type": "execute_result"
    }
   ],
   "source": [
    "df_online['SpecialDay'].value_counts()"
   ]
  },
  {
   "cell_type": "code",
   "execution_count": 26,
   "metadata": {},
   "outputs": [
    {
     "data": {
      "text/plain": [
       "Text(0, 0.5, 'count')"
      ]
     },
     "execution_count": 26,
     "metadata": {},
     "output_type": "execute_result"
    },
    {
     "data": {
      "image/png": "[encoded data removed]",
      "text/plain": [
       "<Figure size 864x576 with 1 Axes>"
      ]
     },
     "metadata": {
      "needs_background": "light"
     },
     "output_type": "display_data"
    }
   ],
   "source": [
    "plt.figure(figsize = (12,8))\n",
    "sns.countplot(df_online['SpecialDay'], palette = 'pastel')\n",
    "plt.title('Buy or Not', fontsize = 30)\n",
    "plt.xlabel('Special Day', fontsize = 15)\n",
    "plt.ylabel('count', fontsize = 15)"
   ]
  },
  {
   "cell_type": "code",
   "execution_count": 27,
   "metadata": {},
   "outputs": [
    {
     "data": {
      "text/plain": [
       "Text(0, 0.5, 'count')"
      ]
     },
     "execution_count": 27,
     "metadata": {},
     "output_type": "execute_result"
    },
    {
     "data": {
      "image/png": "[encoded data removed]",
      "text/plain": [
       "<Figure size 864x576 with 1 Axes>"
      ]
     },
     "metadata": {
      "needs_background": "light"
     },
     "output_type": "display_data"
    }
   ],
   "source": [
    "# checking the Distribution of customers on Revenue\n",
    "\n",
    "plt.figure(figsize = (12,8))\n",
    "sns.countplot(df_online['Weekend'], palette = 'pastel')\n",
    "plt.title('Buy or Not', fontsize = 30)\n",
    "plt.xlabel('Revenue or not', fontsize = 15)\n",
    "plt.ylabel('count', fontsize = 15)"
   ]
  },
  {
   "cell_type": "code",
   "execution_count": 28,
   "metadata": {},
   "outputs": [
    {
     "name": "stdout",
     "output_type": "stream",
     "text": [
      "16.0 % of visitors generate revenue\n"
     ]
    }
   ],
   "source": [
    "print(round(sum(df_online['Revenue'])/len(df_online['Revenue']), 2)*100, \"% of visitors generate revenue\")"
   ]
  },
  {
   "cell_type": "code",
   "execution_count": 29,
   "metadata": {},
   "outputs": [
    {
     "data": {
      "image/png": "[encoded data removed]",
      "text/plain": [
       "<Figure size 432x288 with 1 Axes>"
      ]
     },
     "metadata": {
      "needs_background": "light"
     },
     "output_type": "display_data"
    }
   ],
   "source": [
    "# checking the Distribution of customers on Weekend\n",
    "sns.countplot(df_online['Weekend'], palette = 'inferno')\n",
    "plt.title('Purchase on Weekends', fontsize = 30)\n",
    "plt.xlabel('Weekend or not', fontsize = 15)\n",
    "plt.ylabel('count', fontsize = 15)\n",
    "\n",
    "plt.show()"
   ]
  },
  {
   "cell_type": "code",
   "execution_count": 30,
   "metadata": {},
   "outputs": [
    {
     "data": {
      "text/plain": [
       "<matplotlib.axes._subplots.AxesSubplot at 0x27db4a098b0>"
      ]
     },
     "execution_count": 30,
     "metadata": {},
     "output_type": "execute_result"
    },
    {
     "data": {
      "image/png": "[encoded data removed]",
      "text/plain": [
       "<Figure size 1080x360 with 1 Axes>"
      ]
     },
     "metadata": {
      "needs_background": "light"
     },
     "output_type": "display_data"
    }
   ],
   "source": [
    "pd.crosstab(df_online['TrafficType'],df_online['Revenue']).plot(kind = 'bar', figsize = (15, 5), color = ['lightpink', 'yellow'])"
   ]
  },
  {
   "cell_type": "code",
   "execution_count": 31,
   "metadata": {},
   "outputs": [
    {
     "data": {
      "text/html": [
       "<div>\n",
       "<style scoped>\n",
       "    .dataframe tbody tr th:only-of-type {\n",
       "        vertical-align: middle;\n",
       "    }\n",
       "\n",
       "    .dataframe tbody tr th {\n",
       "        vertical-align: top;\n",
       "    }\n",
       "\n",
       "    .dataframe thead th {\n",
       "        text-align: right;\n",
       "    }\n",
       "</style>\n",
       "<table border=\"1\" class=\"dataframe\">\n",
       "  <thead>\n",
       "    <tr style=\"text-align: right;\">\n",
       "      <th>Revenue</th>\n",
       "      <th>False</th>\n",
       "      <th>True</th>\n",
       "    </tr>\n",
       "    <tr>\n",
       "      <th>VisitorType</th>\n",
       "      <th></th>\n",
       "      <th></th>\n",
       "    </tr>\n",
       "  </thead>\n",
       "  <tbody>\n",
       "    <tr>\n",
       "      <th>New_Visitor</th>\n",
       "      <td>1272</td>\n",
       "      <td>422</td>\n",
       "    </tr>\n",
       "    <tr>\n",
       "      <th>Other</th>\n",
       "      <td>69</td>\n",
       "      <td>16</td>\n",
       "    </tr>\n",
       "    <tr>\n",
       "      <th>Returning_Visitor</th>\n",
       "      <td>9034</td>\n",
       "      <td>1470</td>\n",
       "    </tr>\n",
       "  </tbody>\n",
       "</table>\n",
       "</div>"
      ],
      "text/plain": [
       "Revenue            False  True \n",
       "VisitorType                    \n",
       "New_Visitor         1272    422\n",
       "Other                 69     16\n",
       "Returning_Visitor   9034   1470"
      ]
     },
     "execution_count": 31,
     "metadata": {},
     "output_type": "execute_result"
    }
   ],
   "source": [
    "df_vt = pd.crosstab(df_online.VisitorType, df_online.Revenue)\n",
    "df_vt"
   ]
  },
  {
   "cell_type": "code",
   "execution_count": 35,
   "metadata": {},
   "outputs": [
    {
     "data": {
      "text/plain": [
       "Text(0.5, 1.0, 'PageValues')"
      ]
     },
     "execution_count": 35,
     "metadata": {},
     "output_type": "execute_result"
    },
    {
     "data": {
      "image/png": "[encoded data removed]",
      "text/plain": [
       "<Figure size 1080x720 with 6 Axes>"
      ]
     },
     "metadata": {},
     "output_type": "display_data"
    }
   ],
   "source": [
    "plt.figure(figsize = (15, 10))\n",
    "plt.style.use('seaborn-white')\n",
    "ax=plt.subplot(231)\n",
    "plt.boxplot(df_online['BounceRates'])\n",
    "ax.set_title('BounceRates')\n",
    "ax=plt.subplot(232)\n",
    "plt.boxplot(df_online['ExitRates'])\n",
    "ax.set_title('ExitRates')\n",
    "ax=plt.subplot(233)\n",
    "plt.boxplot(df_online['Administrative_Duration'])\n",
    "ax.set_title('Administrative_Duration')\n",
    "ax=plt.subplot(234)\n",
    "plt.boxplot(df_online['Informational_Duration'])\n",
    "ax.set_title('Informational_Duration')\n",
    "ax=plt.subplot(235)\n",
    "plt.boxplot(df_online['ProductRelated_Duration'])\n",
    "ax.set_title('ProductRelated_Duration')\n",
    "ax=plt.subplot(236)\n",
    "plt.boxplot(df_online['PageValues'])\n",
    "ax.set_title('PageValues')"
   ]
  },
  {
   "cell_type": "markdown",
   "metadata": {},
   "source": [
    "Kami memiliki banyak pencilan, jika Anda melihat informational_duration dan nilai halaman, mereka tidak memiliki distribusi apa pun dan jika Anda menghapus pencilan akan ada satu nilai yang tersisa di dalamnya. Jadi kecuali dua fitur itu, kami menghapus pencilan melalui metode IQR"
   ]
  },
  {
   "cell_type": "code",
   "execution_count": 33,
   "metadata": {},
   "outputs": [
    {
     "data": {
      "text/plain": [
       "False    84.466336\n",
       "True     15.533664\n",
       "Name: Revenue, dtype: float64"
      ]
     },
     "execution_count": 33,
     "metadata": {},
     "output_type": "execute_result"
    }
   ],
   "source": [
    "df_online['Revenue'].value_counts()/len(df_online) * 100"
   ]
  },
  {
   "cell_type": "code",
   "execution_count": 34,
   "metadata": {},
   "outputs": [
    {
     "data": {
      "text/plain": [
       "Returning_Visitor    10504\n",
       "New_Visitor           1694\n",
       "Other                   85\n",
       "Name: VisitorType, dtype: int64"
      ]
     },
     "execution_count": 34,
     "metadata": {},
     "output_type": "execute_result"
    }
   ],
   "source": [
    "df_online['VisitorType'].value_counts()"
   ]
  },
  {
   "cell_type": "code",
   "execution_count": 37,
   "metadata": {},
   "outputs": [],
   "source": [
    "df_online.to_csv('df_online.csv')"
   ]
  },
  {
   "cell_type": "code",
   "execution_count": null,
   "metadata": {},
   "outputs": [],
   "source": []
  }
 ],
 "metadata": {
  "kernelspec": {
   "display_name": "Python 3.8.3 64-bit",
   "language": "python",
   "name": "python38364bit7720c5d46d63437fbe06f418eb0652a2"
  },
  "language_info": {
   "codemirror_mode": {
    "name": "ipython",
    "version": 3
   },
   "file_extension": ".py",
   "mimetype": "text/x-python",
   "name": "python",
   "nbconvert_exporter": "python",
   "pygments_lexer": "ipython3",
   "version": "3.8.3"
  }
 },
 "nbformat": 4,
 "nbformat_minor": 4
}
