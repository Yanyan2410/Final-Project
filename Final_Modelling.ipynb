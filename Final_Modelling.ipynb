{
 "cells": [
  {
   "cell_type": "code",
   "execution_count": 71,
   "metadata": {},
   "outputs": [],
   "source": [
    "import pandas as pd\n",
    "import numpy as np\n",
    "import warnings\n",
    "import pickle\n",
    "from sklearn.model_selection import train_test_split\n",
    "from sklearn.metrics import roc_curve, auc, roc_auc_score, accuracy_score, balanced_accuracy_score,f1_score,recall_score,precision_score,classification_report, confusion_matrix\n",
    "from sklearn.preprocessing import RobustScaler\n",
    "from sklearn.linear_model import LogisticRegression\n",
    "from imblearn.over_sampling import SMOTE \n",
    "from sklearn.ensemble import RandomForestClassifier\n",
    "from sklearn.model_selection import GridSearchCV\n",
    "from xgboost import XGBClassifier\n",
    "import matplotlib.pyplot as plt\n",
    "import seaborn as sns\n",
    "\n",
    "%matplotlib inline"
   ]
  },
  {
   "cell_type": "code",
   "execution_count": 2,
   "metadata": {},
   "outputs": [],
   "source": [
    "df_online = pd.read_csv('df_online1.csv', index_col = 0)"
   ]
  },
  {
   "cell_type": "code",
   "execution_count": 101,
   "metadata": {},
   "outputs": [
    {
     "data": {
      "text/plain": [
       "0"
      ]
     },
     "execution_count": 101,
     "metadata": {},
     "output_type": "execute_result"
    }
   ],
   "source": [
    "df_online.head()"
   ]
  },
  {
   "cell_type": "markdown",
   "metadata": {},
   "source": [
    "#### Drop Target"
   ]
  },
  {
   "cell_type": "code",
   "execution_count": 4,
   "metadata": {},
   "outputs": [],
   "source": [
    "X= df_online.drop(columns = 'Revenue',axis=1)\n",
    "y=df_online['Revenue']"
   ]
  },
  {
   "cell_type": "markdown",
   "metadata": {},
   "source": [
    "#### Scalling Data"
   ]
  },
  {
   "cell_type": "code",
   "execution_count": 5,
   "metadata": {},
   "outputs": [],
   "source": [
    "scaler = RobustScaler()\n",
    "X = scaler.fit_transform(X)"
   ]
  },
  {
   "cell_type": "markdown",
   "metadata": {},
   "source": [
    "#### Train Test Split"
   ]
  },
  {
   "cell_type": "code",
   "execution_count": 6,
   "metadata": {},
   "outputs": [],
   "source": [
    "X_train,X_test, y_train, y_test = train_test_split(X,y, stratify = y, test_size = .2, random_state = 42)"
   ]
  },
  {
   "cell_type": "code",
   "execution_count": 7,
   "metadata": {},
   "outputs": [
    {
     "data": {
      "text/plain": [
       "(6997, 17)"
      ]
     },
     "execution_count": 7,
     "metadata": {},
     "output_type": "execute_result"
    }
   ],
   "source": [
    "X_train.shape"
   ]
  },
  {
   "cell_type": "code",
   "execution_count": 8,
   "metadata": {},
   "outputs": [
    {
     "data": {
      "text/plain": [
       "(1750, 17)"
      ]
     },
     "execution_count": 8,
     "metadata": {},
     "output_type": "execute_result"
    }
   ],
   "source": [
    "X_test.shape"
   ]
  },
  {
   "cell_type": "markdown",
   "metadata": {},
   "source": [
    "#### Data Imbalanced Handling - SMOTE"
   ]
  },
  {
   "cell_type": "code",
   "execution_count": 9,
   "metadata": {},
   "outputs": [],
   "source": [
    "sm = SMOTE(random_state=42)"
   ]
  },
  {
   "cell_type": "code",
   "execution_count": 10,
   "metadata": {},
   "outputs": [],
   "source": [
    "X_train_sm,y_train_sm=sm.fit_sample(X_train,y_train)"
   ]
  },
  {
   "cell_type": "code",
   "execution_count": 11,
   "metadata": {},
   "outputs": [
    {
     "data": {
      "text/plain": [
       "(11682, 17)"
      ]
     },
     "execution_count": 11,
     "metadata": {},
     "output_type": "execute_result"
    }
   ],
   "source": [
    "X_train_sm.shape"
   ]
  },
  {
   "cell_type": "code",
   "execution_count": 12,
   "metadata": {},
   "outputs": [
    {
     "data": {
      "text/plain": [
       "(6997, 17)"
      ]
     },
     "execution_count": 12,
     "metadata": {},
     "output_type": "execute_result"
    }
   ],
   "source": [
    "X_train.shape"
   ]
  },
  {
   "cell_type": "markdown",
   "metadata": {},
   "source": [
    "#### Modelling - Base"
   ]
  },
  {
   "cell_type": "markdown",
   "metadata": {},
   "source": [
    "#### Logistic Regeression"
   ]
  },
  {
   "cell_type": "code",
   "execution_count": 13,
   "metadata": {},
   "outputs": [],
   "source": [
    "logres = LogisticRegression(max_iter=1000)\n",
    "model1 = logres.fit(X_train_sm,y_train_sm)"
   ]
  },
  {
   "cell_type": "code",
   "execution_count": 14,
   "metadata": {},
   "outputs": [
    {
     "data": {
      "text/plain": [
       "0.876"
      ]
     },
     "execution_count": 14,
     "metadata": {},
     "output_type": "execute_result"
    }
   ],
   "source": [
    "model1.score(X_test,y_test)"
   ]
  },
  {
   "cell_type": "code",
   "execution_count": 15,
   "metadata": {},
   "outputs": [],
   "source": [
    "prediksi1 = logres.predict(X_test)"
   ]
  },
  {
   "cell_type": "code",
   "execution_count": 70,
   "metadata": {},
   "outputs": [
    {
     "name": "stdout",
     "output_type": "stream",
     "text": [
      "              precision    recall  f1-score   support\n",
      "\n",
      "           0       0.94      0.91      0.92      1461\n",
      "           1       0.61      0.69      0.65       289\n",
      "\n",
      "    accuracy                           0.88      1750\n",
      "   macro avg       0.77      0.80      0.79      1750\n",
      "weighted avg       0.88      0.88      0.88      1750\n",
      "\n",
      "[[ 200   89]\n",
      " [ 128 1333]]\n"
     ]
    }
   ],
   "source": [
    "print(classification_report(y_test, prediksi1))\n",
    "cm = confusion_matrix(y_test,prediksi1,labels=[1,0])\n",
    "print(cm)"
   ]
  },
  {
   "cell_type": "code",
   "execution_count": 17,
   "metadata": {},
   "outputs": [
    {
     "data": {
      "image/png": "[encoded data removed]",
      "text/plain": [
       "<Figure size 504x360 with 2 Axes>"
      ]
     },
     "metadata": {
      "needs_background": "light"
     },
     "output_type": "display_data"
    }
   ],
   "source": [
    "cm1 = confusion_matrix(y_test,prediksi1,labels=[1,0])\n",
    "df_cm1 = pd.DataFrame(cm1,columns=['Pred 1', 'Pred 0'],index=['Act 1', 'Act 0'])\n",
    "\n",
    "plt.figure(figsize=(7,5))\n",
    "x = sns.heatmap(df_cm1, annot=True,annot_kws={'size':10},fmt='d',linewidths=0.2)\n",
    "x.set_ylim(2,0)\n",
    "plt.show()"
   ]
  },
  {
   "cell_type": "markdown",
   "metadata": {},
   "source": [
    "Dalam model ini, yang menjadi tujuan adalah memprediksi intensi calon customer apakah calon customer tersebut akan berbelanja atau tidak. Oleh karena itu pemodelan yang dianggap baik adalah pemodelan yang bisa memberikan nilai True Positive sebanyak-banyaknya dan berdasarkan tujuan awal dari model ini untuk dapat membantu meningkatkan penjualan dari ecommerce saya memilih untuk memperbesar False Negative karena ketika mesin mempredict seorang calon customer yang akan berbelanja tetapi mesin tersebut akan mempredict tidak belanja kerugian yang didapat akan lebih besar dibandingkan dengan mesin mempredict banyak calon customer yang akan berbelanja padahal tidak. "
   ]
  },
  {
   "cell_type": "markdown",
   "metadata": {},
   "source": [
    "#### Logistic Regression Hyper Parameter Tuning"
   ]
  },
  {
   "cell_type": "code",
   "execution_count": 18,
   "metadata": {},
   "outputs": [],
   "source": [
    "params1 = {\n",
    "    \"penalty\":['l2'], # default l2, l1 dan elasticnet tidak dipakai karena menyebabkan solver 'newton-cg' error\n",
    "    \"solver\":['liblinear','newton-cg','sag','saga','lbfgs'], # default liblinear\n",
    "    \"C\":[0.1,0.5,1],\n",
    "    \"max_iter\":[100,200,300,400,500,600,700,800,900,1000]\n",
    "          }"
   ]
  },
  {
   "cell_type": "code",
   "execution_count": 19,
   "metadata": {},
   "outputs": [
    {
     "name": "stdout",
     "output_type": "stream",
     "text": [
      "Fitting 10 folds for each of 150 candidates, totalling 1500 fits\n"
     ]
    },
    {
     "name": "stderr",
     "output_type": "stream",
     "text": [
      "[Parallel(n_jobs=-1)]: Using backend LokyBackend with 8 concurrent workers.\n",
      "[Parallel(n_jobs=-1)]: Done  34 tasks      | elapsed:    3.0s\n",
      "[Parallel(n_jobs=-1)]: Done 184 tasks      | elapsed:   16.8s\n",
      "[Parallel(n_jobs=-1)]: Done 434 tasks      | elapsed:  1.0min\n",
      "[Parallel(n_jobs=-1)]: Done 784 tasks      | elapsed:  1.8min\n",
      "[Parallel(n_jobs=-1)]: Done 1234 tasks      | elapsed:  3.0min\n",
      "[Parallel(n_jobs=-1)]: Done 1500 out of 1500 | elapsed:  3.9min finished\n",
      "C:\\Users\\G531\\AppData\\Local\\Programs\\Python\\Python38\\lib\\site-packages\\sklearn\\linear_model\\_sag.py:329: ConvergenceWarning: The max_iter was reached which means the coef_ did not converge\n",
      "  warnings.warn(\"The max_iter was reached which means \"\n"
     ]
    }
   ],
   "source": [
    "model1_tuning = GridSearchCV(logres, params1, cv=10, n_jobs=-1, verbose=1)\n",
    "model4 = model1_tuning.fit(X_train_sm,y_train_sm)"
   ]
  },
  {
   "cell_type": "code",
   "execution_count": 20,
   "metadata": {},
   "outputs": [
    {
     "data": {
      "text/plain": [
       "0.88"
      ]
     },
     "execution_count": 20,
     "metadata": {},
     "output_type": "execute_result"
    }
   ],
   "source": [
    "model4.score(X_test,y_test)"
   ]
  },
  {
   "cell_type": "code",
   "execution_count": 21,
   "metadata": {},
   "outputs": [
    {
     "data": {
      "text/plain": [
       "{'C': 0.1, 'max_iter': 100, 'penalty': 'l2', 'solver': 'saga'}"
      ]
     },
     "execution_count": 21,
     "metadata": {},
     "output_type": "execute_result"
    }
   ],
   "source": [
    "model4.best_params_"
   ]
  },
  {
   "cell_type": "code",
   "execution_count": 22,
   "metadata": {},
   "outputs": [],
   "source": [
    "prediksi4 = model4.predict(X_test)"
   ]
  },
  {
   "cell_type": "code",
   "execution_count": 69,
   "metadata": {},
   "outputs": [
    {
     "name": "stdout",
     "output_type": "stream",
     "text": [
      "              precision    recall  f1-score   support\n",
      "\n",
      "           0       0.95      0.90      0.93      1461\n",
      "           1       0.61      0.78      0.68       289\n",
      "\n",
      "    accuracy                           0.88      1750\n",
      "   macro avg       0.78      0.84      0.80      1750\n",
      "weighted avg       0.90      0.88      0.89      1750\n",
      "\n",
      "[[ 224   65]\n",
      " [ 145 1316]]\n"
     ]
    }
   ],
   "source": [
    "print(classification_report(y_test, prediksi4))\n",
    "cm = confusion_matrix(y_test,prediksi4,labels=[1,0])\n",
    "print(cm)"
   ]
  },
  {
   "cell_type": "code",
   "execution_count": 24,
   "metadata": {},
   "outputs": [
    {
     "data": {
      "text/plain": [
       "<matplotlib.axes._subplots.AxesSubplot at 0x1ac726df130>"
      ]
     },
     "execution_count": 24,
     "metadata": {},
     "output_type": "execute_result"
    },
    {
     "data": {
      "image/png": "[encoded data removed]",
      "text/plain": [
       "<Figure size 432x288 with 2 Axes>"
      ]
     },
     "metadata": {
      "needs_background": "light"
     },
     "output_type": "display_data"
    }
   ],
   "source": [
    "cm4 = confusion_matrix(y_test,prediksi4,labels=[1,0])\n",
    "df_cm4 = pd.DataFrame(cm4,\n",
    "                 columns=['Pred 1', 'Pred 0'],\n",
    "                 index=['Act 1', 'Act 0'])\n",
    "sns.heatmap(df_cm4,annot=True )"
   ]
  },
  {
   "cell_type": "markdown",
   "metadata": {},
   "source": [
    "#### Random Forest"
   ]
  },
  {
   "cell_type": "code",
   "execution_count": 25,
   "metadata": {},
   "outputs": [],
   "source": [
    "rfc = RandomForestClassifier(n_estimators=100) # n_estimator default\n",
    "model2 = rfc.fit(X_train_sm,y_train_sm)"
   ]
  },
  {
   "cell_type": "code",
   "execution_count": 26,
   "metadata": {},
   "outputs": [
    {
     "data": {
      "text/plain": [
       "0.8891428571428571"
      ]
     },
     "execution_count": 26,
     "metadata": {},
     "output_type": "execute_result"
    }
   ],
   "source": [
    "model2.score(X_test,y_test)"
   ]
  },
  {
   "cell_type": "code",
   "execution_count": 27,
   "metadata": {},
   "outputs": [],
   "source": [
    "prediksi2 = rfc.predict(X_test)"
   ]
  },
  {
   "cell_type": "code",
   "execution_count": 68,
   "metadata": {},
   "outputs": [
    {
     "name": "stdout",
     "output_type": "stream",
     "text": [
      "              precision    recall  f1-score   support\n",
      "\n",
      "           0       0.94      0.93      0.93      1461\n",
      "           1       0.66      0.69      0.67       289\n",
      "\n",
      "    accuracy                           0.89      1750\n",
      "   macro avg       0.80      0.81      0.80      1750\n",
      "weighted avg       0.89      0.89      0.89      1750\n",
      "\n",
      "[[ 198   91]\n",
      " [ 103 1358]]\n"
     ]
    }
   ],
   "source": [
    "print(classification_report(y_test, prediksi2))\n",
    "cm = confusion_matrix(y_test,prediksi2,labels=[1,0])\n",
    "print(cm)"
   ]
  },
  {
   "cell_type": "code",
   "execution_count": 29,
   "metadata": {},
   "outputs": [
    {
     "data": {
      "text/plain": [
       "<matplotlib.axes._subplots.AxesSubplot at 0x1ac72757400>"
      ]
     },
     "execution_count": 29,
     "metadata": {},
     "output_type": "execute_result"
    },
    {
     "data": {
      "image/png": "[encoded data removed]",
      "text/plain": [
       "<Figure size 432x288 with 2 Axes>"
      ]
     },
     "metadata": {
      "needs_background": "light"
     },
     "output_type": "display_data"
    }
   ],
   "source": [
    "cm2 = confusion_matrix(y_test, prediksi2, labels=[1, 0])\n",
    "df_cm2 = pd.DataFrame(cm2,\n",
    "                 columns=['Pred 1', 'Pred 0'],\n",
    "                 index=['Act 1', 'Act 0'])\n",
    "df_cm2\n",
    "sns.heatmap(df_cm2,annot=True )"
   ]
  },
  {
   "cell_type": "markdown",
   "metadata": {},
   "source": [
    "#### Random Forest + Hyperparameter Tuning"
   ]
  },
  {
   "cell_type": "code",
   "execution_count": 30,
   "metadata": {},
   "outputs": [],
   "source": [
    "params2 = {\n",
    "    \"n_estimators\": [10,100,200], # default 10\n",
    "     \"max_features\":['auto','sqrt'], # default auto \n",
    "    \"max_depth\":[int(x) for x in np.linspace(10,110,11)], # default none\n",
    "     \"min_samples_split\":[2,5,10], # default 2 \n",
    "     \"min_samples_leaf\":[1,2,4], # default 1\n",
    "    \"bootstrap\":[True,False] \n",
    "          }"
   ]
  },
  {
   "cell_type": "code",
   "execution_count": 31,
   "metadata": {},
   "outputs": [
    {
     "name": "stdout",
     "output_type": "stream",
     "text": [
      "Fitting 5 folds for each of 792 candidates, totalling 3960 fits\n"
     ]
    },
    {
     "name": "stderr",
     "output_type": "stream",
     "text": [
      "[Parallel(n_jobs=-1)]: Using backend LokyBackend with 8 concurrent workers.\n",
      "[Parallel(n_jobs=-1)]: Done  34 tasks      | elapsed:    3.6s\n",
      "[Parallel(n_jobs=-1)]: Done 184 tasks      | elapsed:   19.3s\n",
      "[Parallel(n_jobs=-1)]: Done 434 tasks      | elapsed:   53.3s\n",
      "[Parallel(n_jobs=-1)]: Done 784 tasks      | elapsed:  1.7min\n",
      "[Parallel(n_jobs=-1)]: Done 1234 tasks      | elapsed:  2.6min\n",
      "[Parallel(n_jobs=-1)]: Done 1784 tasks      | elapsed:  3.9min\n",
      "[Parallel(n_jobs=-1)]: Done 2434 tasks      | elapsed:  5.7min\n",
      "[Parallel(n_jobs=-1)]: Done 3184 tasks      | elapsed:  8.1min\n",
      "[Parallel(n_jobs=-1)]: Done 3960 out of 3960 | elapsed: 10.7min finished\n"
     ]
    }
   ],
   "source": [
    "model2_tuning = GridSearchCV(rfc, params2, cv=5, n_jobs=-1, verbose=1)\n",
    "model5 = model2_tuning.fit(X_train_sm,y_train_sm)"
   ]
  },
  {
   "cell_type": "code",
   "execution_count": 32,
   "metadata": {},
   "outputs": [
    {
     "data": {
      "text/plain": [
       "0.8891428571428571"
      ]
     },
     "execution_count": 32,
     "metadata": {},
     "output_type": "execute_result"
    }
   ],
   "source": [
    "model5.score(X_test,y_test)"
   ]
  },
  {
   "cell_type": "code",
   "execution_count": 33,
   "metadata": {},
   "outputs": [
    {
     "data": {
      "text/plain": [
       "{'bootstrap': False,\n",
       " 'max_depth': 40,\n",
       " 'max_features': 'auto',\n",
       " 'min_samples_leaf': 1,\n",
       " 'min_samples_split': 2,\n",
       " 'n_estimators': 100}"
      ]
     },
     "execution_count": 33,
     "metadata": {},
     "output_type": "execute_result"
    }
   ],
   "source": [
    "model5.best_params_"
   ]
  },
  {
   "cell_type": "code",
   "execution_count": 34,
   "metadata": {},
   "outputs": [],
   "source": [
    "prediksi5 = model5.predict(X_test)"
   ]
  },
  {
   "cell_type": "code",
   "execution_count": 67,
   "metadata": {},
   "outputs": [
    {
     "name": "stdout",
     "output_type": "stream",
     "text": [
      "              precision    recall  f1-score   support\n",
      "\n",
      "           0       0.93      0.94      0.93      1461\n",
      "           1       0.67      0.65      0.66       289\n",
      "\n",
      "    accuracy                           0.89      1750\n",
      "   macro avg       0.80      0.79      0.80      1750\n",
      "weighted avg       0.89      0.89      0.89      1750\n",
      "\n",
      "[[ 188  101]\n",
      " [  93 1368]]\n"
     ]
    }
   ],
   "source": [
    "print(classification_report(y_test, prediksi5))\n",
    "cm = confusion_matrix(y_test,prediksi5,labels=[1,0])\n",
    "print(cm)"
   ]
  },
  {
   "cell_type": "code",
   "execution_count": 36,
   "metadata": {},
   "outputs": [
    {
     "data": {
      "image/png": "[encoded data removed]",
      "text/plain": [
       "<Figure size 504x360 with 2 Axes>"
      ]
     },
     "metadata": {
      "needs_background": "light"
     },
     "output_type": "display_data"
    }
   ],
   "source": [
    "cm5 = confusion_matrix(y_test,prediksi5,labels=[1,0])\n",
    "df_cm5 = pd.DataFrame(cm5,columns=['Pred 1', 'Pred 0'],index=['Act 1', 'Act 0'])\n",
    "\n",
    "plt.figure(figsize=(7,5))\n",
    "x = sns.heatmap(df_cm5, annot=True,annot_kws={'size':10},fmt='d',linewidths=0.2)\n",
    "x.set_ylim(2,0)\n",
    "plt.show()"
   ]
  },
  {
   "cell_type": "markdown",
   "metadata": {},
   "source": [
    "#### XGBoost Classifier"
   ]
  },
  {
   "cell_type": "code",
   "execution_count": 37,
   "metadata": {},
   "outputs": [],
   "source": [
    "xgbc = XGBClassifier()\n",
    "model3 = xgbc.fit(X_train_sm,y_train_sm)"
   ]
  },
  {
   "cell_type": "code",
   "execution_count": 38,
   "metadata": {},
   "outputs": [
    {
     "data": {
      "text/plain": [
       "0.896"
      ]
     },
     "execution_count": 38,
     "metadata": {},
     "output_type": "execute_result"
    }
   ],
   "source": [
    "model3.score(X_test,y_test)"
   ]
  },
  {
   "cell_type": "code",
   "execution_count": 39,
   "metadata": {},
   "outputs": [],
   "source": [
    "prediksi3 = xgbc.predict(X_test)"
   ]
  },
  {
   "cell_type": "code",
   "execution_count": 40,
   "metadata": {},
   "outputs": [
    {
     "name": "stdout",
     "output_type": "stream",
     "text": [
      "              precision    recall  f1-score   support\n",
      "\n",
      "           0       0.93      0.94      0.94      1461\n",
      "           1       0.70      0.65      0.67       289\n",
      "\n",
      "    accuracy                           0.90      1750\n",
      "   macro avg       0.81      0.80      0.81      1750\n",
      "weighted avg       0.89      0.90      0.89      1750\n",
      "\n"
     ]
    }
   ],
   "source": [
    "print(classification_report(y_test, prediksi3))"
   ]
  },
  {
   "cell_type": "code",
   "execution_count": 41,
   "metadata": {},
   "outputs": [
    {
     "data": {
      "image/png": "[encoded data removed]",
      "text/plain": [
       "<Figure size 504x360 with 2 Axes>"
      ]
     },
     "metadata": {
      "needs_background": "light"
     },
     "output_type": "display_data"
    }
   ],
   "source": [
    "cm3 = confusion_matrix(y_test,prediksi3,labels=[1,0])\n",
    "df_cm3 = pd.DataFrame(cm3,columns=['Pred 1', 'Pred 0'],index=['Act 1', 'Act 0'])\n",
    "\n",
    "plt.figure(figsize=(7,5))\n",
    "x = sns.heatmap(df_cm3, annot=True,annot_kws={'size':10},fmt='d',linewidths=0.2,cmap='magma')\n",
    "x.set_ylim(2,0)\n",
    "plt.show()"
   ]
  },
  {
   "cell_type": "markdown",
   "metadata": {},
   "source": [
    "#### XGBoost Classifier Tunning"
   ]
  },
  {
   "cell_type": "code",
   "execution_count": 42,
   "metadata": {},
   "outputs": [],
   "source": [
    "XGBClassifier()\n",
    "params3 = {\n",
    "    \"learing_rate\":[0.1,0.2,0.3], # default 0.1\n",
    "    \"max_depth\":[3,5,7],# default 3\n",
    "    \"min_child_weight\":[1,2], # default 1\n",
    "    \"gamma\":[0.1,0.5], # default 0.1\n",
    "    \"subsample\":[0.1,0.5], # default 0.1\n",
    "    \"reg_alpha\":[0,1] # default 0\n",
    "          }"
   ]
  },
  {
   "cell_type": "code",
   "execution_count": 43,
   "metadata": {},
   "outputs": [
    {
     "name": "stdout",
     "output_type": "stream",
     "text": [
      "Fitting 5 folds for each of 144 candidates, totalling 720 fits\n"
     ]
    },
    {
     "name": "stderr",
     "output_type": "stream",
     "text": [
      "[Parallel(n_jobs=-1)]: Using backend LokyBackend with 8 concurrent workers.\n",
      "[Parallel(n_jobs=-1)]: Done  34 tasks      | elapsed:    4.5s\n",
      "[Parallel(n_jobs=-1)]: Done 184 tasks      | elapsed:   33.3s\n",
      "[Parallel(n_jobs=-1)]: Done 434 tasks      | elapsed:  1.4min\n",
      "[Parallel(n_jobs=-1)]: Done 720 out of 720 | elapsed:  2.4min finished\n"
     ]
    },
    {
     "name": "stdout",
     "output_type": "stream",
     "text": [
      "[19:40:50] WARNING: C:\\Users\\Administrator\\workspace\\xgboost-win64_release_1.1.0\\src\\learner.cc:480: \n",
      "Parameters: { learing_rate } might not be used.\n",
      "\n",
      "  This may not be accurate due to some parameters are only used in language bindings but\n",
      "  passed down to XGBoost core.  Or some parameters are not used but slip through this\n",
      "  verification. Please open an issue if you find above cases.\n",
      "\n",
      "\n"
     ]
    }
   ],
   "source": [
    "model3_tuning = GridSearchCV(xgbc, params3, cv=5, n_jobs=-1, verbose=1)\n",
    "model6 = model3_tuning.fit(X_train_sm,y_train_sm)"
   ]
  },
  {
   "cell_type": "code",
   "execution_count": 44,
   "metadata": {},
   "outputs": [
    {
     "data": {
      "text/plain": [
       "0.8942857142857142"
      ]
     },
     "execution_count": 44,
     "metadata": {},
     "output_type": "execute_result"
    }
   ],
   "source": [
    "model6.score(X_test,y_test)"
   ]
  },
  {
   "cell_type": "code",
   "execution_count": 45,
   "metadata": {},
   "outputs": [
    {
     "data": {
      "text/plain": [
       "{'gamma': 0.1,\n",
       " 'learing_rate': 0.1,\n",
       " 'max_depth': 7,\n",
       " 'min_child_weight': 1,\n",
       " 'reg_alpha': 1,\n",
       " 'subsample': 0.5}"
      ]
     },
     "execution_count": 45,
     "metadata": {},
     "output_type": "execute_result"
    }
   ],
   "source": [
    "model6.best_params_"
   ]
  },
  {
   "cell_type": "code",
   "execution_count": 46,
   "metadata": {},
   "outputs": [],
   "source": [
    "prediksi6 = model6.predict(X_test)"
   ]
  },
  {
   "cell_type": "code",
   "execution_count": 59,
   "metadata": {},
   "outputs": [
    {
     "name": "stdout",
     "output_type": "stream",
     "text": [
      "              precision    recall  f1-score   support\n",
      "\n",
      "           0       0.93      0.95      0.94      1461\n",
      "           1       0.70      0.63      0.66       289\n",
      "\n",
      "    accuracy                           0.89      1750\n",
      "   macro avg       0.81      0.79      0.80      1750\n",
      "weighted avg       0.89      0.89      0.89      1750\n",
      "\n"
     ]
    }
   ],
   "source": [
    "print(classification_report(y_test, prediksi6))"
   ]
  },
  {
   "cell_type": "code",
   "execution_count": 48,
   "metadata": {},
   "outputs": [
    {
     "data": {
      "image/png": "[encoded data removed]",
      "text/plain": [
       "<Figure size 504x360 with 2 Axes>"
      ]
     },
     "metadata": {
      "needs_background": "light"
     },
     "output_type": "display_data"
    }
   ],
   "source": [
    "cm6 = confusion_matrix(y_test,prediksi5,labels=[1,0])\n",
    "df_cm6 = pd.DataFrame(cm6,columns=['Pred 1', 'Pred 0'],index=['Act 1', 'Act 0'])\n",
    "\n",
    "plt.figure(figsize=(7,5))\n",
    "x = sns.heatmap(df_cm6, annot=True,annot_kws={'size':10},fmt='d',linewidths=0.2,cmap='magma')\n",
    "x.set_ylim(2,0)\n",
    "plt.show()"
   ]
  },
  {
   "cell_type": "code",
   "execution_count": 95,
   "metadata": {},
   "outputs": [
    {
     "data": {
      "text/plain": [
       "0"
      ]
     },
     "execution_count": 95,
     "metadata": {},
     "output_type": "execute_result"
    }
   ],
   "source": [
    "model5.predict([[1.0,1.0,1.0,1.0,10.0,627.500000,0.020000,0.050000,0.0,1.0,0,3,3,1,4,1,0]])[0]"
   ]
  },
  {
   "cell_type": "markdown",
   "metadata": {},
   "source": [
    "#### ROC and AUC"
   ]
  },
  {
   "cell_type": "code",
   "execution_count": 49,
   "metadata": {},
   "outputs": [],
   "source": [
    "proba1 = model1.predict_proba(X_test)\n",
    "proba2 = model2.predict_proba(X_test)\n",
    "proba3 = model3.predict_proba(X_test)\n",
    "proba4 = model4.predict_proba(X_test)\n",
    "proba5 = model5.predict_proba(X_test)\n",
    "proba6 = model6.predict_proba(X_test)"
   ]
  },
  {
   "cell_type": "code",
   "execution_count": 50,
   "metadata": {},
   "outputs": [],
   "source": [
    "pred1 = proba1[:,1] \n",
    "fpr1, tpr1, threshold1 = roc_curve(y_test, pred1)\n",
    "\n",
    "pred2 = proba2[:,1] \n",
    "fpr2, tpr2, threshold2 = roc_curve(y_test, pred2)\n",
    "\n",
    "pred3 = proba3[:,1] \n",
    "fpr3, tpr3, threshold3 = roc_curve(y_test, pred3)\n",
    "\n",
    "pred4 = proba4[:,1] \n",
    "fpr4, tpr4, threshold4 = roc_curve(y_test, pred4)\n",
    "\n",
    "pred5 = proba5[:,1] \n",
    "fpr5, tpr5, threshold5 = roc_curve(y_test, pred5)\n",
    "\n",
    "pred6 = proba6[:,1] \n",
    "fpr6, tpr6, threshold6 = roc_curve(y_test, pred6)"
   ]
  },
  {
   "cell_type": "code",
   "execution_count": 51,
   "metadata": {},
   "outputs": [],
   "source": [
    "sc1 = round(auc(fpr1,tpr1),2)\n",
    "sc2 = round(auc(fpr2,tpr2),2)\n",
    "sc3 = round(auc(fpr3,tpr3),2)\n",
    "sc4 = round(auc(fpr4,tpr4),2)\n",
    "sc5 = round(auc(fpr5,tpr5),2)\n",
    "sc6 = round(auc(fpr6,tpr6),2)"
   ]
  },
  {
   "cell_type": "code",
   "execution_count": 52,
   "metadata": {},
   "outputs": [
    {
     "data": {
      "image/png": "[encoded data removed]",
      "text/plain": [
       "<Figure size 720x576 with 1 Axes>"
      ]
     },
     "metadata": {
      "needs_background": "light"
     },
     "output_type": "display_data"
    }
   ],
   "source": [
    "plt.figure(figsize=(10,8))\n",
    "plt.title('Receiver Operator Characteristic')\n",
    "plt.plot(fpr1, tpr1, 'b', label=f'AUC LogRes={sc1} ')\n",
    "plt.plot(fpr2, tpr2, 'g', label=f'AUC RFC={sc2} ')\n",
    "plt.plot(fpr3, tpr3, 'r', label=f'AUC XGBC={sc3} ')\n",
    "plt.plot(fpr4, tpr4, 'k', label=f'AUC LogResTune={sc4} ')\n",
    "plt.plot(fpr5, tpr5, 'y', label=f'AUC RFCTune={sc5} ')\n",
    "plt.plot(fpr6, tpr6, 'purple', label=f'AUC XGBCTune={sc6} ')\n",
    "\n",
    "plt.plot([0,1],[0,1],'r-.')\n",
    "\n",
    "plt.ylim([0,1]) # dizoom grafiknya dari 0.1\n",
    "plt.xlim([0,1])\n",
    "plt.legend()\n",
    "plt.xlabel('False Positive Rates')\n",
    "plt.ylabel('True Positive Rates')\n",
    "plt.show()"
   ]
  }
 ],
 "metadata": {
  "kernelspec": {
   "display_name": "Python 3.8.3 64-bit",
   "language": "python",
   "name": "python38364bit7720c5d46d63437fbe06f418eb0652a2"
  },
  "language_info": {
   "codemirror_mode": {
    "name": "ipython",
    "version": 3
   },
   "file_extension": ".py",
   "mimetype": "text/x-python",
   "name": "python",
   "nbconvert_exporter": "python",
   "pygments_lexer": "ipython3",
   "version": "3.8.3"
  }
 },
 "nbformat": 4,
 "nbformat_minor": 4
}
